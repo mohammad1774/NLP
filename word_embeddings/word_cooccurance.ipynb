{
 "cells": [
  {
   "cell_type": "code",
   "execution_count": 1,
   "id": "8177de5f",
   "metadata": {},
   "outputs": [],
   "source": [
    "import numpy as np\n",
    "import re"
   ]
  },
  {
   "cell_type": "code",
   "execution_count": 6,
   "id": "a9fc2ba3",
   "metadata": {},
   "outputs": [],
   "source": [
    "from sklearn.datasets import fetch_20newsgroups as getData"
   ]
  },
  {
   "cell_type": "code",
   "execution_count": 3,
   "id": "447adbfc",
   "metadata": {},
   "outputs": [],
   "source": [
    "from scipy.sparse import lil_matrix"
   ]
  },
  {
   "cell_type": "code",
   "execution_count": 7,
   "id": "6441b391",
   "metadata": {},
   "outputs": [],
   "source": [
    "data = getData(subset='train',remove=('headers','footers','quotes'))\n",
    "X=data.data"
   ]
  },
  {
   "cell_type": "code",
   "execution_count": 9,
   "id": "42c7f824",
   "metadata": {},
   "outputs": [],
   "source": [
    "x = ' '.join(X)\n"
   ]
  },
  {
   "cell_type": "code",
   "execution_count": 11,
   "id": "5e683a2d",
   "metadata": {},
   "outputs": [
    {
     "data": {
      "text/plain": [
       "13793298"
      ]
     },
     "execution_count": 11,
     "metadata": {},
     "output_type": "execute_result"
    }
   ],
   "source": [
    "len(x)"
   ]
  },
  {
   "cell_type": "code",
   "execution_count": 12,
   "id": "88e25411",
   "metadata": {},
   "outputs": [],
   "source": [
    "x = x.lower()"
   ]
  },
  {
   "cell_type": "code",
   "execution_count": 13,
   "id": "f4d49c52",
   "metadata": {},
   "outputs": [],
   "source": [
    "corpus_list = re.split('\\W',x)"
   ]
  },
  {
   "cell_type": "code",
   "execution_count": 14,
   "id": "8f3d9b5d",
   "metadata": {},
   "outputs": [
    {
     "data": {
      "text/plain": [
       "3807553"
      ]
     },
     "execution_count": 14,
     "metadata": {},
     "output_type": "execute_result"
    }
   ],
   "source": [
    "len(corpus_list)"
   ]
  },
  {
   "cell_type": "code",
   "execution_count": 102,
   "id": "1dfa30f0",
   "metadata": {},
   "outputs": [],
   "source": [
    "cutOffValue = 50\n",
    "from collections import defaultdict\n",
    "frequency = defaultdict(int)\n",
    "for token in corpus_list:\n",
    "    frequency[token] += 1\n",
    "processedCorpus_list = [token for token in corpus_list if frequency[token] > cutOffValue ]"
   ]
  },
  {
   "cell_type": "code",
   "execution_count": 103,
   "id": "a651d059",
   "metadata": {},
   "outputs": [
    {
     "data": {
      "text/plain": [
       "3423482"
      ]
     },
     "execution_count": 103,
     "metadata": {},
     "output_type": "execute_result"
    }
   ],
   "source": [
    "len(processedCorpus_list)"
   ]
  },
  {
   "cell_type": "code",
   "execution_count": 104,
   "id": "27139590",
   "metadata": {},
   "outputs": [],
   "source": [
    "allWords = np.array(list(frequency.keys()))\n",
    "allCounts = np.array(list(frequency.values()))"
   ]
  },
  {
   "cell_type": "code",
   "execution_count": 105,
   "id": "e86487cb",
   "metadata": {},
   "outputs": [],
   "source": [
    "vocab = allWords[allCounts >= cutOffValue]\n",
    "wordCounts = allCounts[allCounts >= cutOffValue]"
   ]
  },
  {
   "cell_type": "code",
   "execution_count": null,
   "id": "08fe507a",
   "metadata": {},
   "outputs": [],
   "source": []
  },
  {
   "cell_type": "code",
   "execution_count": null,
   "id": "54a4d408",
   "metadata": {},
   "outputs": [],
   "source": []
  },
  {
   "cell_type": "code",
   "execution_count": null,
   "id": "20f3c4a9",
   "metadata": {},
   "outputs": [],
   "source": []
  },
  {
   "cell_type": "code",
   "execution_count": null,
   "id": "95a294a1",
   "metadata": {},
   "outputs": [],
   "source": []
  },
  {
   "cell_type": "code",
   "execution_count": 195,
   "id": "21fa71bc",
   "metadata": {},
   "outputs": [
    {
     "data": {
      "text/plain": [
       "3423482"
      ]
     },
     "execution_count": 195,
     "metadata": {},
     "output_type": "execute_result"
    }
   ],
   "source": [
    "len(processedCorpus_list)"
   ]
  },
  {
   "cell_type": "code",
   "execution_count": null,
   "id": "3de69bea",
   "metadata": {},
   "outputs": [],
   "source": []
  },
  {
   "cell_type": "code",
   "execution_count": 106,
   "id": "c5885fbc",
   "metadata": {},
   "outputs": [],
   "source": [
    "def computeWordContextMatrix(corpus_list,vocab=None,window_size=2):\n",
    "    if vocab is None:\n",
    "        vocab=sorted(list(set(corpus_list)))\n",
    "    numWords = len(vocab)\n",
    "    #M = np.zeros((numWords,numWords))\n",
    "    M = lil_matrix((numWords,numWords))\n",
    "    W2I = dict(zip(vocab,np.arange(numWords)))\n",
    "    I2w = dict(zip(np.arange(numWords),vocab))\n",
    "    doc = corpus_list\n",
    "    curIdx = 0\n",
    "    docLen = len(doc)\n",
    "    while curIdx < docLen:\n",
    "        left = max(curIdx-window_size,0)\n",
    "        right = min(curIdx+window_size+1,docLen)\n",
    "        wordsInContext = doc[left:curIdx] + doc[curIdx+1:right]\n",
    "        currentWord=doc[curIdx]\n",
    "        currentWordIdx = W2I[currentWord]\n",
    "        for word in wordsInContext:\n",
    "            contextIdx = W2I[word]\n",
    "            M[currentWordIdx,contextIdx] += 1\n",
    "        curIdx += 1\n",
    "    return M,W2I,I2w\n",
    "            "
   ]
  },
  {
   "cell_type": "code",
   "execution_count": 174,
   "id": "b226e7fc",
   "metadata": {},
   "outputs": [],
   "source": [
    "M,W2I,I2W = computeWordContextMatrix(processedCorpus_list,vocab)"
   ]
  },
  {
   "cell_type": "code",
   "execution_count": 120,
   "id": "9db49589",
   "metadata": {},
   "outputs": [
    {
     "data": {
      "text/plain": [
       "matrix([[5601541.]])"
      ]
     },
     "execution_count": 120,
     "metadata": {},
     "output_type": "execute_result"
    }
   ],
   "source": [
    "sorted(np.sum(M,axis=1))[-1]"
   ]
  },
  {
   "cell_type": "code",
   "execution_count": 116,
   "id": "6bf22a1f",
   "metadata": {},
   "outputs": [
    {
     "data": {
      "text/plain": [
       "'i'"
      ]
     },
     "execution_count": 116,
     "metadata": {},
     "output_type": "execute_result"
    }
   ],
   "source": [
    "I2W[0]"
   ]
  },
  {
   "cell_type": "code",
   "execution_count": null,
   "id": "857dc17a",
   "metadata": {},
   "outputs": [],
   "source": [
    "np.outer()"
   ]
  },
  {
   "cell_type": "code",
   "execution_count": null,
   "id": "7c9615fe",
   "metadata": {},
   "outputs": [],
   "source": [
    "np.isinf()"
   ]
  },
  {
   "cell_type": "code",
   "execution_count": 177,
   "id": "49ead9af",
   "metadata": {},
   "outputs": [],
   "source": [
    "M2 = M.copy()"
   ]
  },
  {
   "cell_type": "code",
   "execution_count": 214,
   "id": "7eff1c43",
   "metadata": {},
   "outputs": [],
   "source": [
    "def pmi(M,positive=True):\n",
    "    col_totals = np.sum(M,axis=0)\n",
    "    total = col_totals.sum()\n",
    "    row_totals = np.sum(M, axis=1)\n",
    "    #print(col_totals,'\\n',row_totals)\n",
    "    expected = np.outer(row_totals,col_totals) / total\n",
    "    #print(expected)\n",
    "    \n",
    "    M = M / expected\n",
    "    with np.errstate(divide='ignore'):\n",
    "        M = np.log(M)\n",
    "    #M[np.isinf(M)] = 0.0\n",
    "    \n",
    "    \n",
    "    \n",
    "    if positive:\n",
    "        M[M<0]=0.0\n",
    "    return M"
   ]
  },
  {
   "cell_type": "code",
   "execution_count": 215,
   "id": "c6c383b4",
   "metadata": {},
   "outputs": [
    {
     "name": "stderr",
     "output_type": "stream",
     "text": [
      "F:\\anaconda\\Lib\\site-packages\\scipy\\sparse\\_base.py:665: RuntimeWarning: invalid value encountered in divide\n",
      "  return np.true_divide(self.todense(), other)\n"
     ]
    }
   ],
   "source": [
    "M2 = pmi(M)"
   ]
  },
  {
   "cell_type": "code",
   "execution_count": 196,
   "id": "bf5a154a",
   "metadata": {},
   "outputs": [
    {
     "data": {
      "text/plain": [
       "(4327, 4327)"
      ]
     },
     "execution_count": 196,
     "metadata": {},
     "output_type": "execute_result"
    }
   ],
   "source": [
    "M2.shape"
   ]
  },
  {
   "cell_type": "code",
   "execution_count": 218,
   "id": "57dd9c3f",
   "metadata": {},
   "outputs": [
    {
     "data": {
      "text/plain": [
       "nan"
      ]
     },
     "execution_count": 218,
     "metadata": {},
     "output_type": "execute_result"
    }
   ],
   "source": [
    "np.min(M2)"
   ]
  },
  {
   "cell_type": "code",
   "execution_count": 169,
   "id": "e520c4fa",
   "metadata": {},
   "outputs": [],
   "source": [
    "# def calculate_pmi(matrix,positive=True):\n",
    "#     # Convert the matrix to probabilities\n",
    "#     p_xy = matrix / np.sum(matrix)\n",
    "#     p_x = np.sum(matrix, axis=1) / np.sum(matrix)\n",
    "#     p_y = np.sum(matrix, axis=0) / np.sum(matrix)\n",
    "    \n",
    "#     # Avoid division by zero\n",
    "#     p_x[p_x == 0] = 1\n",
    "#     p_y[p_y == 0] = 1\n",
    "    \n",
    "#     # Calculate PMI\n",
    "#     pmi_matrix = np.log2(p_xy / (np.outer(p_x, p_y)))\n",
    "    \n",
    "# #     if positive:\n",
    "# #         pmi_matrix[pmi_matrix<0] = 0.0\n",
    "#     return pmi_matrix"
   ]
  },
  {
   "cell_type": "code",
   "execution_count": 173,
   "id": "0d0f2c15",
   "metadata": {},
   "outputs": [],
   "source": [
    "M = calculate_pmi(M)"
   ]
  },
  {
   "cell_type": "code",
   "execution_count": null,
   "id": "bb4baf38",
   "metadata": {},
   "outputs": [],
   "source": []
  },
  {
   "cell_type": "code",
   "execution_count": null,
   "id": "60c27348",
   "metadata": {},
   "outputs": [],
   "source": []
  },
  {
   "cell_type": "code",
   "execution_count": null,
   "id": "c0e9e7a6",
   "metadata": {},
   "outputs": [],
   "source": []
  },
  {
   "cell_type": "code",
   "execution_count": 219,
   "id": "999bfedd",
   "metadata": {},
   "outputs": [],
   "source": [
    "M2 = np.nan_to_num(M2,nan=0.0)"
   ]
  },
  {
   "cell_type": "code",
   "execution_count": 220,
   "id": "a3d9f38a",
   "metadata": {},
   "outputs": [
    {
     "data": {
      "text/plain": [
       "0.0"
      ]
     },
     "execution_count": 220,
     "metadata": {},
     "output_type": "execute_result"
    }
   ],
   "source": [
    "np.min(M2)"
   ]
  },
  {
   "cell_type": "code",
   "execution_count": null,
   "id": "871de6d1",
   "metadata": {},
   "outputs": [],
   "source": []
  },
  {
   "cell_type": "code",
   "execution_count": 200,
   "id": "d3ef1d4a",
   "metadata": {},
   "outputs": [
    {
     "data": {
      "text/plain": [
       "(1, 643425)"
      ]
     },
     "execution_count": 200,
     "metadata": {},
     "output_type": "execute_result"
    }
   ],
   "source": [
    "M2[np.isnan(M2)]"
   ]
  },
  {
   "cell_type": "code",
   "execution_count": 203,
   "id": "832861ac",
   "metadata": {},
   "outputs": [
    {
     "data": {
      "text/plain": [
       "(1, 0)"
      ]
     },
     "execution_count": 203,
     "metadata": {},
     "output_type": "execute_result"
    }
   ],
   "source": []
  },
  {
   "cell_type": "code",
   "execution_count": 5,
   "id": "c3c79a3d",
   "metadata": {},
   "outputs": [],
   "source": [
    "from sklearn.decomposition import TruncatedSVD,PCA,IncrementalPCA"
   ]
  },
  {
   "cell_type": "code",
   "execution_count": 221,
   "id": "b6448244",
   "metadata": {},
   "outputs": [
    {
     "name": "stderr",
     "output_type": "stream",
     "text": [
      "F:\\anaconda\\Lib\\site-packages\\sklearn\\utils\\validation.py:727: FutureWarning: np.matrix usage is deprecated in 1.0 and will raise a TypeError in 1.2. Please convert to a numpy array with np.asarray. For more information see: https://numpy.org/doc/stable/reference/generated/numpy.matrix.html\n",
      "  warnings.warn(\n"
     ]
    }
   ],
   "source": [
    "transformer = TruncatedSVD(n_components=100)\n",
    "M_reduced = transformer.fit_transform(M2)"
   ]
  },
  {
   "cell_type": "code",
   "execution_count": 222,
   "id": "9411ec5d",
   "metadata": {},
   "outputs": [],
   "source": [
    "# transformerPca = IncrementalPCA(n_components=100)\n",
    "# M_reduced_pca = transformerPca.fit_transform(M)\n",
    "# M_reduced_pca[0]"
   ]
  },
  {
   "cell_type": "code",
   "execution_count": 325,
   "id": "662337c6",
   "metadata": {},
   "outputs": [
    {
     "data": {
      "text/plain": [
       "-14.71154543042965"
      ]
     },
     "execution_count": 325,
     "metadata": {},
     "output_type": "execute_result"
    }
   ],
   "source": [
    "np.min(M_reduced)"
   ]
  },
  {
   "cell_type": "code",
   "execution_count": null,
   "id": "5b182d77",
   "metadata": {},
   "outputs": [],
   "source": []
  },
  {
   "cell_type": "code",
   "execution_count": null,
   "id": "f7530699",
   "metadata": {},
   "outputs": [],
   "source": []
  },
  {
   "cell_type": "code",
   "execution_count": null,
   "id": "806e8d14",
   "metadata": {},
   "outputs": [],
   "source": []
  },
  {
   "cell_type": "code",
   "execution_count": null,
   "id": "32b22455",
   "metadata": {},
   "outputs": [],
   "source": []
  },
  {
   "cell_type": "code",
   "execution_count": null,
   "id": "1b7b82a4",
   "metadata": {},
   "outputs": [],
   "source": []
  },
  {
   "cell_type": "code",
   "execution_count": 206,
   "id": "9d18d2da",
   "metadata": {},
   "outputs": [
    {
     "data": {
      "text/plain": [
       "(4327, 4327)"
      ]
     },
     "execution_count": 206,
     "metadata": {},
     "output_type": "execute_result"
    }
   ],
   "source": [
    "M.shape"
   ]
  },
  {
   "cell_type": "code",
   "execution_count": 326,
   "id": "10e84d70",
   "metadata": {},
   "outputs": [
    {
     "data": {
      "text/plain": [
       "0"
      ]
     },
     "execution_count": 326,
     "metadata": {},
     "output_type": "execute_result"
    }
   ],
   "source": [
    "np.sum(np.isnan(M_reduced))"
   ]
  },
  {
   "cell_type": "code",
   "execution_count": 497,
   "id": "8644fa58",
   "metadata": {},
   "outputs": [],
   "source": [
    "def getNorms(E):\n",
    "    if E.ndim <= 1:\n",
    "        E = E[np.newaxis,:]\n",
    "    nrms =  np.sum(E**2,axis=1)**0.5\n",
    "    return nrms"
   ]
  },
  {
   "cell_type": "code",
   "execution_count": 256,
   "id": "ad8d2aa3",
   "metadata": {},
   "outputs": [
    {
     "name": "stdout",
     "output_type": "stream",
     "text": [
      "[34.32019928]\n"
     ]
    }
   ],
   "source": [
    "print(getNorms(M_reduced[1,:]))"
   ]
  },
  {
   "cell_type": "code",
   "execution_count": 271,
   "id": "74ccb63f",
   "metadata": {},
   "outputs": [],
   "source": [
    "def normalize(E):\n",
    " #   if E.ndim ==1:\n",
    "#        E = E[np.newaxis,:]\n",
    "#     for i in range(E.shape[0]):\n",
    "#         nrms = getNorms(E[i][np.newaxis,:])\n",
    "#         print(nrms,np.sqrt(nrms))\n",
    "#         E[i] = E[i]/(np.sqrt(nrms))\n",
    "    nrms = getNorms(E)\n",
    "\n",
    "#     print(nrms[:,np.newaxis])\n",
    "#     print(nrms.shape)\n",
    "#     print(E.shape)\n",
    "    return E / nrms[:,np.newaxis]"
   ]
  },
  {
   "cell_type": "code",
   "execution_count": 262,
   "id": "d42b33ff",
   "metadata": {},
   "outputs": [
    {
     "name": "stdout",
     "output_type": "stream",
     "text": [
      "[[34.32019928]]\n",
      "(1,)\n",
      "(100,)\n",
      "[0.47660618]\n"
     ]
    }
   ],
   "source": [
    "E = M_reduced[1,:]\n",
    "norm_E = normalize(E)\n",
    "print(np.sum(norm_E,axis=1))"
   ]
  },
  {
   "cell_type": "code",
   "execution_count": 253,
   "id": "d79e2ce9",
   "metadata": {},
   "outputs": [
    {
     "data": {
      "text/plain": [
       "array([0.47660618])"
      ]
     },
     "execution_count": 253,
     "metadata": {},
     "output_type": "execute_result"
    }
   ],
   "source": [
    "np.sum(norm_E,axis=1)"
   ]
  },
  {
   "cell_type": "code",
   "execution_count": 264,
   "id": "3e15b6e0",
   "metadata": {},
   "outputs": [
    {
     "data": {
      "text/plain": [
       "16.357219017403168"
      ]
     },
     "execution_count": 264,
     "metadata": {},
     "output_type": "execute_result"
    }
   ],
   "source": [
    "np.sum(M_reduced[1])"
   ]
  },
  {
   "cell_type": "code",
   "execution_count": 267,
   "id": "6c405e73",
   "metadata": {},
   "outputs": [
    {
     "data": {
      "text/plain": [
       "34.32019927633177"
      ]
     },
     "execution_count": 267,
     "metadata": {},
     "output_type": "execute_result"
    }
   ],
   "source": [
    "np.sum(M_reduced[1]**2)**0.5"
   ]
  },
  {
   "cell_type": "code",
   "execution_count": 268,
   "id": "829a4e77",
   "metadata": {},
   "outputs": [
    {
     "data": {
      "text/plain": [
       "array([1.])"
      ]
     },
     "execution_count": 268,
     "metadata": {},
     "output_type": "execute_result"
    }
   ],
   "source": [
    "getNorms(norm_E)"
   ]
  },
  {
   "cell_type": "code",
   "execution_count": 330,
   "id": "acce8a32",
   "metadata": {},
   "outputs": [],
   "source": [
    "def cosineSimilarity(E,v):\n",
    "    E = normalize(E)\n",
    "    v = normalize(v)\n",
    "    scores = E.dot(v.T)\n",
    "    scores[np.isnan(scores)] = 0.0\n",
    "    return scores"
   ]
  },
  {
   "cell_type": "code",
   "execution_count": 508,
   "id": "94954a8d",
   "metadata": {},
   "outputs": [],
   "source": [
    "def getMostSimilarWords(E,word,W2I,topn=10):\n",
    "    if type(word) is str:\n",
    "        v = E[W2I[word],:]\n",
    "    else:\n",
    "        v = word\n",
    "    scores = cosineSimilarity(E,v)\n",
    "    print(scores)\n",
    "    sortedScores = np.sort(scores.reshape(-1))[::-1]\n",
    "    print(sortedScores.shape)\n",
    "    print(np.sum(np.isnan(sortedScores)))\n",
    "    idx = np.argsort(scores.reshape(-1))[::-1]\n",
    "    topNScores = sortedScores[1:]\n",
    "    topNWordsIdx = idx[1:]\n",
    "    return topNScores,topNWordsIdx\n",
    "        "
   ]
  },
  {
   "cell_type": "code",
   "execution_count": 362,
   "id": "c977c991",
   "metadata": {},
   "outputs": [
    {
     "data": {
      "text/plain": [
       "(100,)"
      ]
     },
     "execution_count": 362,
     "metadata": {},
     "output_type": "execute_result"
    }
   ],
   "source": [
    "E.shape"
   ]
  },
  {
   "cell_type": "code",
   "execution_count": 375,
   "id": "552a82ad",
   "metadata": {},
   "outputs": [
    {
     "name": "stdout",
     "output_type": "stream",
     "text": [
      "[[0.24114608]\n",
      " [0.28139872]\n",
      " [0.35245551]\n",
      " ...\n",
      " [0.06448628]\n",
      " [0.05556236]\n",
      " [0.37626089]]\n",
      "(4327,)\n",
      "0\n"
     ]
    },
    {
     "name": "stderr",
     "output_type": "stream",
     "text": [
      "C:\\Users\\Mohammad\\AppData\\Local\\Temp\\ipykernel_1864\\1797927720.py:13: RuntimeWarning: invalid value encountered in divide\n",
      "  return E / nrms[:,np.newaxis]\n"
     ]
    }
   ],
   "source": [
    "scores, idx = getMostSimilarWords(M_reduced,'hello',W2I)"
   ]
  },
  {
   "cell_type": "code",
   "execution_count": 376,
   "id": "9fb9fc42",
   "metadata": {},
   "outputs": [
    {
     "name": "stdout",
     "output_type": "stream",
     "text": [
      "[0.70703512 0.70240866 0.65376879 0.62265067 0.61971857 0.61676366\n",
      " 0.60392609 0.58373418 0.57491022]\n",
      "[1459  109 4061 1594  237 1625 1074  392  437]\n"
     ]
    }
   ],
   "source": [
    "print(scores)\n",
    "print(idx)"
   ]
  },
  {
   "cell_type": "code",
   "execution_count": 377,
   "id": "08fc3330",
   "metadata": {},
   "outputs": [
    {
     "data": {
      "text/plain": [
       "array([0.70703512, 0.70240866, 0.65376879, 0.62265067, 0.61971857,\n",
       "       0.61676366, 0.60392609, 0.58373418, 0.57491022])"
      ]
     },
     "execution_count": 377,
     "metadata": {},
     "output_type": "execute_result"
    }
   ],
   "source": [
    "scores"
   ]
  },
  {
   "cell_type": "code",
   "execution_count": 378,
   "id": "3d9ee44b",
   "metadata": {},
   "outputs": [
    {
     "data": {
      "text/plain": [
       "array([1459,  109, 4061, 1594,  237, 1625, 1074,  392,  437], dtype=int64)"
      ]
     },
     "execution_count": 378,
     "metadata": {},
     "output_type": "execute_result"
    }
   ],
   "source": [
    "idx"
   ]
  },
  {
   "cell_type": "code",
   "execution_count": 379,
   "id": "5d58672e",
   "metadata": {},
   "outputs": [
    {
     "name": "stdout",
     "output_type": "stream",
     "text": [
      "sorry\n",
      "thanks\n",
      "dear\n",
      "hi\n",
      "com\n",
      "wrote\n",
      "ed\n",
      "thanx\n",
      "hey\n"
     ]
    }
   ],
   "source": [
    "for i in idx:\n",
    "    print(I2W[i])"
   ]
  },
  {
   "cell_type": "code",
   "execution_count": null,
   "id": "c539cbde",
   "metadata": {},
   "outputs": [],
   "source": []
  },
  {
   "cell_type": "code",
   "execution_count": null,
   "id": "a19d1240",
   "metadata": {},
   "outputs": [],
   "source": []
  },
  {
   "cell_type": "code",
   "execution_count": null,
   "id": "70531af6",
   "metadata": {},
   "outputs": [],
   "source": []
  },
  {
   "cell_type": "code",
   "execution_count": null,
   "id": "d16437ee",
   "metadata": {},
   "outputs": [],
   "source": []
  },
  {
   "cell_type": "code",
   "execution_count": 380,
   "id": "1770b3cf",
   "metadata": {},
   "outputs": [],
   "source": [
    "import dill"
   ]
  },
  {
   "cell_type": "code",
   "execution_count": 381,
   "id": "63c5ed7d",
   "metadata": {},
   "outputs": [],
   "source": [
    "def saveModel(model,filename):\n",
    "    with open(filename, 'wb') as f:\n",
    "        dill.dump(model,f)\n",
    "def loadModel(filename):\n",
    "    with open(filename,'rb') as file:\n",
    "        return dill.load(file)\n",
    "        "
   ]
  },
  {
   "cell_type": "code",
   "execution_count": 382,
   "id": "94484fac",
   "metadata": {},
   "outputs": [],
   "source": [
    "import pandas as pd"
   ]
  },
  {
   "cell_type": "code",
   "execution_count": 384,
   "id": "48ce4c1a",
   "metadata": {},
   "outputs": [],
   "source": [
    "from gensim.models import KeyedVectors"
   ]
  },
  {
   "cell_type": "code",
   "execution_count": 386,
   "id": "711fda5b",
   "metadata": {},
   "outputs": [],
   "source": [
    "with open('glove.6B.100d.txt','r') as file:\n",
    "    text = file"
   ]
  },
  {
   "cell_type": "code",
   "execution_count": 403,
   "id": "4c5f0ddf",
   "metadata": {},
   "outputs": [],
   "source": [
    "model = KeyedVectors.load_word2vec_format('glove.6B.100d.txt',binary=False,no_header=True)"
   ]
  },
  {
   "cell_type": "code",
   "execution_count": 404,
   "id": "3d8e5156",
   "metadata": {},
   "outputs": [],
   "source": [
    "saveModel(model,'w2v_100d.pkl')"
   ]
  },
  {
   "cell_type": "code",
   "execution_count": 429,
   "id": "be7da67d",
   "metadata": {},
   "outputs": [],
   "source": [
    "I2W = model.index_to_key\n",
    "W2I = model.key_to_index\n",
    "#E = model.keys()"
   ]
  },
  {
   "cell_type": "code",
   "execution_count": 421,
   "id": "f11cc8f2",
   "metadata": {},
   "outputs": [
    {
     "name": "stderr",
     "output_type": "stream",
     "text": [
      "IOPub data rate exceeded.\n",
      "The notebook server will temporarily stop sending output\n",
      "to the client in order to avoid crashing it.\n",
      "To change this limit, set the config variable\n",
      "`--NotebookApp.iopub_data_rate_limit`.\n",
      "\n",
      "Current values:\n",
      "NotebookApp.iopub_data_rate_limit=1000000.0 (bytes/sec)\n",
      "NotebookApp.rate_limit_window=3.0 (secs)\n",
      "\n"
     ]
    }
   ],
   "source": [
    "import numpy as np\n",
    "\n",
    "def load_glove_model(file_path):\n",
    "    model = {}\n",
    "    with open(file_path, 'r', encoding='utf-8') as file:\n",
    "        for line in file:\n",
    "            values = line.split()\n",
    "            word = values[0]\n",
    "            vector = np.array(values[1:], dtype='float32')\n",
    "            model[word] = vector\n",
    "    return model\n",
    "\n",
    "def get_embedding_matrix(model):\n",
    "    words = list(model.keys())\n",
    "    embedding_matrix = np.vstack([model[word] for word in words])\n",
    "    return words, embedding_matrix\n",
    "\n",
    "# Replace 'path/to/your/glove_file.txt' with the actual path to your GloVe file\n",
    "glove_file_path = 'glove.6B.100d.txt'\n",
    "\n",
    "# Load GloVe model\n",
    "glove_model = load_glove_model(glove_file_path)\n",
    "\n",
    "# Get embedding matrix\n",
    "words, embedding_matrix = get_embedding_matrix(glove_model)\n",
    "\n",
    "# Print the words and the embedding matrix\n",
    "print(\"Words:\", words)\n",
    "print(\"Embedding Matrix Shape:\", embedding_matrix.shape)\n",
    "E = embedding_matrix"
   ]
  },
  {
   "cell_type": "code",
   "execution_count": 449,
   "id": "b3df6b57",
   "metadata": {},
   "outputs": [
    {
     "name": "stdout",
     "output_type": "stream",
     "text": [
      "[[ 0.6249901 ]\n",
      " [ 0.64267707]\n",
      " [ 0.6907098 ]\n",
      " ...\n",
      " [-0.2975428 ]\n",
      " [-0.47232828]\n",
      " [-0.42604652]]\n",
      "(400000,)\n",
      "0\n"
     ]
    }
   ],
   "source": [
    "scores , idx = getMostSimilarWords(E,E[W2I['good']],W2I)"
   ]
  },
  {
   "cell_type": "code",
   "execution_count": 450,
   "id": "2862761a",
   "metadata": {},
   "outputs": [
    {
     "name": "stdout",
     "output_type": "stream",
     "text": [
      "better\n",
      "sure\n",
      "really\n",
      "kind\n",
      "very\n",
      "we\n",
      "way\n",
      "think\n",
      "thing\n"
     ]
    }
   ],
   "source": [
    "for i in range(len(idx)):\n",
    "    print(I2W[idx[i]])"
   ]
  },
  {
   "cell_type": "code",
   "execution_count": 430,
   "id": "71831116",
   "metadata": {},
   "outputs": [
    {
     "data": {
      "text/plain": [
       "219"
      ]
     },
     "execution_count": 430,
     "metadata": {},
     "output_type": "execute_result"
    }
   ],
   "source": [
    "W2I['good']"
   ]
  },
  {
   "cell_type": "code",
   "execution_count": 438,
   "id": "64bb5911",
   "metadata": {},
   "outputs": [],
   "source": [
    "def analogies(E,W2I,man,woman,king):\n",
    "    word = E[W2I[king]]-E[W2I[man]]+E[W2I[woman]]\n",
    "    scores, idx= getMostSimilarWords(E,word,W2I)\n",
    "    return scores,idx"
   ]
  },
  {
   "cell_type": "code",
   "execution_count": 441,
   "id": "b3fefbc1",
   "metadata": {},
   "outputs": [
    {
     "name": "stdout",
     "output_type": "stream",
     "text": [
      "[[ 0.6104524 ]\n",
      " [ 0.54657996]\n",
      " [ 0.59741277]\n",
      " ...\n",
      " [-0.39674562]\n",
      " [-0.35540912]\n",
      " [-0.27958274]]\n",
      "(400000,)\n",
      "0\n"
     ]
    }
   ],
   "source": [
    "scores,idx = analogies(E,W2I,'tall','long','short')"
   ]
  },
  {
   "cell_type": "code",
   "execution_count": 442,
   "id": "1077a903",
   "metadata": {},
   "outputs": [
    {
     "name": "stdout",
     "output_type": "stream",
     "text": [
      "long\n",
      "end\n",
      "term\n",
      "time\n",
      "during\n",
      "extended\n",
      "recent\n",
      "direct\n",
      "taking\n"
     ]
    }
   ],
   "source": [
    "for i in range(len(idx)):\n",
    "    print(I2W[idx[i]])"
   ]
  },
  {
   "cell_type": "code",
   "execution_count": 443,
   "id": "3fe411da",
   "metadata": {},
   "outputs": [],
   "source": [
    "def reduceDim(X,new_dim=3):\n",
    "    pca = PCA(n_components=new_dim)\n",
    "    pca.fit(X)\n",
    "    X_new = pca.transform(X)\n",
    "    return X_new"
   ]
  },
  {
   "cell_type": "code",
   "execution_count": 444,
   "id": "2e2be486",
   "metadata": {},
   "outputs": [],
   "source": [
    "E_new = reduceDim(E)\n"
   ]
  },
  {
   "cell_type": "code",
   "execution_count": 447,
   "id": "656e264e",
   "metadata": {},
   "outputs": [
    {
     "data": {
      "text/plain": [
       "array([[ 5.8668003 ,  0.19819295,  0.981269  ],\n",
       "       [ 5.563016  ,  1.7808332 ,  0.71480095],\n",
       "       [ 5.695895  ,  0.90337276,  0.265031  ],\n",
       "       ...,\n",
       "       [-0.69032574, -0.01435895, -0.5454169 ],\n",
       "       [-1.3291447 ,  0.07377893,  0.023563  ],\n",
       "       [-0.9986323 ,  0.48808107, -0.2723436 ]], dtype=float32)"
      ]
     },
     "execution_count": 447,
     "metadata": {},
     "output_type": "execute_result"
    }
   ],
   "source": [
    "E_new"
   ]
  },
  {
   "cell_type": "code",
   "execution_count": 448,
   "id": "8175b1ea",
   "metadata": {},
   "outputs": [
    {
     "ename": "AttributeError",
     "evalue": "'str' object has no attribute 'ndim'",
     "output_type": "error",
     "traceback": [
      "\u001b[1;31m---------------------------------------------------------------------------\u001b[0m",
      "\u001b[1;31mAttributeError\u001b[0m                            Traceback (most recent call last)",
      "Cell \u001b[1;32mIn[448], line 1\u001b[0m\n\u001b[1;32m----> 1\u001b[0m getMostSimilarWords(E_new,\u001b[38;5;124m'\u001b[39m\u001b[38;5;124mgood\u001b[39m\u001b[38;5;124m'\u001b[39m,W2I)\n",
      "Cell \u001b[1;32mIn[436], line 6\u001b[0m, in \u001b[0;36mgetMostSimilarWords\u001b[1;34m(E, word, W2I, topn)\u001b[0m\n\u001b[0;32m      3\u001b[0m     v \u001b[38;5;241m=\u001b[39m E[W2I[word],:]\n\u001b[0;32m      5\u001b[0m v \u001b[38;5;241m=\u001b[39m word\n\u001b[1;32m----> 6\u001b[0m scores \u001b[38;5;241m=\u001b[39m cosineSimilarity(E,v)\n\u001b[0;32m      7\u001b[0m \u001b[38;5;28mprint\u001b[39m(scores)\n\u001b[0;32m      8\u001b[0m sortedScores \u001b[38;5;241m=\u001b[39m np\u001b[38;5;241m.\u001b[39msort(scores\u001b[38;5;241m.\u001b[39mreshape(\u001b[38;5;241m-\u001b[39m\u001b[38;5;241m1\u001b[39m))[::\u001b[38;5;241m-\u001b[39m\u001b[38;5;241m1\u001b[39m]\n",
      "Cell \u001b[1;32mIn[330], line 3\u001b[0m, in \u001b[0;36mcosineSimilarity\u001b[1;34m(E, v)\u001b[0m\n\u001b[0;32m      1\u001b[0m \u001b[38;5;28;01mdef\u001b[39;00m \u001b[38;5;21mcosineSimilarity\u001b[39m(E,v):\n\u001b[0;32m      2\u001b[0m     E \u001b[38;5;241m=\u001b[39m normalize(E)\n\u001b[1;32m----> 3\u001b[0m     v \u001b[38;5;241m=\u001b[39m normalize(v)\n\u001b[0;32m      4\u001b[0m     scores \u001b[38;5;241m=\u001b[39m E\u001b[38;5;241m.\u001b[39mdot(v\u001b[38;5;241m.\u001b[39mT)\n\u001b[0;32m      5\u001b[0m     scores[np\u001b[38;5;241m.\u001b[39misnan(scores)] \u001b[38;5;241m=\u001b[39m \u001b[38;5;241m0.0\u001b[39m\n",
      "Cell \u001b[1;32mIn[271], line 8\u001b[0m, in \u001b[0;36mnormalize\u001b[1;34m(E)\u001b[0m\n\u001b[0;32m      1\u001b[0m \u001b[38;5;28;01mdef\u001b[39;00m \u001b[38;5;21mnormalize\u001b[39m(E):\n\u001b[0;32m      2\u001b[0m  \u001b[38;5;66;03m#   if E.ndim ==1:\u001b[39;00m\n\u001b[0;32m      3\u001b[0m \u001b[38;5;66;03m#        E = E[np.newaxis,:]\u001b[39;00m\n\u001b[1;32m   (...)\u001b[0m\n\u001b[0;32m      6\u001b[0m \u001b[38;5;66;03m#         print(nrms,np.sqrt(nrms))\u001b[39;00m\n\u001b[0;32m      7\u001b[0m \u001b[38;5;66;03m#         E[i] = E[i]/(np.sqrt(nrms))\u001b[39;00m\n\u001b[1;32m----> 8\u001b[0m     nrms \u001b[38;5;241m=\u001b[39m getNorms(E)\n\u001b[0;32m     10\u001b[0m \u001b[38;5;66;03m#     print(nrms[:,np.newaxis])\u001b[39;00m\n\u001b[0;32m     11\u001b[0m \u001b[38;5;66;03m#     print(nrms.shape)\u001b[39;00m\n\u001b[0;32m     12\u001b[0m \u001b[38;5;66;03m#     print(E.shape)\u001b[39;00m\n\u001b[0;32m     13\u001b[0m     \u001b[38;5;28;01mreturn\u001b[39;00m E \u001b[38;5;241m/\u001b[39m nrms[:,np\u001b[38;5;241m.\u001b[39mnewaxis]\n",
      "Cell \u001b[1;32mIn[254], line 2\u001b[0m, in \u001b[0;36mgetNorms\u001b[1;34m(E)\u001b[0m\n\u001b[0;32m      1\u001b[0m \u001b[38;5;28;01mdef\u001b[39;00m \u001b[38;5;21mgetNorms\u001b[39m(E):\n\u001b[1;32m----> 2\u001b[0m     \u001b[38;5;28;01mif\u001b[39;00m E\u001b[38;5;241m.\u001b[39mndim \u001b[38;5;241m==\u001b[39m \u001b[38;5;241m1\u001b[39m:\n\u001b[0;32m      3\u001b[0m         E \u001b[38;5;241m=\u001b[39m E[np\u001b[38;5;241m.\u001b[39mnewaxis,:]\n\u001b[0;32m      4\u001b[0m     nrms \u001b[38;5;241m=\u001b[39m  np\u001b[38;5;241m.\u001b[39msum(E\u001b[38;5;241m*\u001b[39m\u001b[38;5;241m*\u001b[39m\u001b[38;5;241m2\u001b[39m,axis\u001b[38;5;241m=\u001b[39m\u001b[38;5;241m1\u001b[39m)\u001b[38;5;241m*\u001b[39m\u001b[38;5;241m*\u001b[39m\u001b[38;5;241m0.5\u001b[39m\n",
      "\u001b[1;31mAttributeError\u001b[0m: 'str' object has no attribute 'ndim'"
     ]
    }
   ],
   "source": [
    "getMostSimilarWords(E_new,'good',W2I)"
   ]
  },
  {
   "cell_type": "code",
   "execution_count": 451,
   "id": "3f216103",
   "metadata": {},
   "outputs": [],
   "source": [
    "import seaborn as sns\n",
    "import matplotlib.pyplot as plt"
   ]
  },
  {
   "cell_type": "code",
   "execution_count": 480,
   "id": "8052a068",
   "metadata": {},
   "outputs": [],
   "source": [
    "similar_words = E_new[idx]"
   ]
  },
  {
   "cell_type": "code",
   "execution_count": 457,
   "id": "e90a0adb",
   "metadata": {},
   "outputs": [
    {
     "ename": "TypeError",
     "evalue": "bad operand type for unary ~: 'list'",
     "output_type": "error",
     "traceback": [
      "\u001b[1;31m---------------------------------------------------------------------------\u001b[0m",
      "\u001b[1;31mTypeError\u001b[0m                                 Traceback (most recent call last)",
      "Cell \u001b[1;32mIn[457], line 1\u001b[0m\n\u001b[1;32m----> 1\u001b[0m non_similar_wordsvecx \u001b[38;5;241m=\u001b[39m E_new[\u001b[38;5;241m~\u001b[39m[idx]]\n",
      "\u001b[1;31mTypeError\u001b[0m: bad operand type for unary ~: 'list'"
     ]
    }
   ],
   "source": []
  },
  {
   "cell_type": "code",
   "execution_count": 455,
   "id": "e491f543",
   "metadata": {},
   "outputs": [
    {
     "data": {
      "text/plain": [
       "(9, 3)"
      ]
     },
     "execution_count": 455,
     "metadata": {},
     "output_type": "execute_result"
    }
   ],
   "source": [
    "similar_words.shape"
   ]
  },
  {
   "cell_type": "code",
   "execution_count": 456,
   "id": "c863720e",
   "metadata": {},
   "outputs": [
    {
     "data": {
      "text/plain": [
       "(9, 3)"
      ]
     },
     "execution_count": 456,
     "metadata": {},
     "output_type": "execute_result"
    }
   ],
   "source": [
    "non_similar_wordsvecx.shape"
   ]
  },
  {
   "cell_type": "code",
   "execution_count": null,
   "id": "8c61de0a",
   "metadata": {},
   "outputs": [],
   "source": []
  },
  {
   "cell_type": "code",
   "execution_count": 458,
   "id": "734fa929",
   "metadata": {},
   "outputs": [],
   "source": [
    "from mpl_toolkits.mplot3d import Axes3D"
   ]
  },
  {
   "cell_type": "code",
   "execution_count": null,
   "id": "26e69be8",
   "metadata": {},
   "outputs": [],
   "source": []
  },
  {
   "cell_type": "code",
   "execution_count": 460,
   "id": "fadbcf79",
   "metadata": {},
   "outputs": [
    {
     "data": {
      "text/plain": [
       "<mpl_toolkits.mplot3d.art3d.Path3DCollection at 0x179428d5210>"
      ]
     },
     "execution_count": 460,
     "metadata": {},
     "output_type": "execute_result"
    },
    {
     "data": {
      "image/png": "[encoded data removed]",
      "text/plain": [
       "<Figure size 640x480 with 1 Axes>"
      ]
     },
     "metadata": {},
     "output_type": "display_data"
    }
   ],
   "source": [
    "fig = plt.figure()\n",
    "ax = fig.add_subplot(111, projection='3d')\n",
    "ax.scatter(similar_words[0],similar_words[1],similar_words[2])"
   ]
  },
  {
   "cell_type": "code",
   "execution_count": null,
   "id": "94ac5654",
   "metadata": {},
   "outputs": [],
   "source": [
    "sns.scatterplot(similar_words[0],similar_words[1],)"
   ]
  },
  {
   "cell_type": "code",
   "execution_count": null,
   "id": "7fab3f7f",
   "metadata": {},
   "outputs": [],
   "source": []
  },
  {
   "cell_type": "code",
   "execution_count": null,
   "id": "98d11c27",
   "metadata": {},
   "outputs": [],
   "source": []
  },
  {
   "cell_type": "code",
   "execution_count": 461,
   "id": "977bfb40",
   "metadata": {},
   "outputs": [],
   "source": [
    "import plotly.express as px\n",
    "df = pd.DataFrame(similar_words)"
   ]
  },
  {
   "cell_type": "code",
   "execution_count": 462,
   "id": "3e5e7b2e",
   "metadata": {},
   "outputs": [
    {
     "data": {
      "text/html": [
       "<div>\n",
       "<style scoped>\n",
       "    .dataframe tbody tr th:only-of-type {\n",
       "        vertical-align: middle;\n",
       "    }\n",
       "\n",
       "    .dataframe tbody tr th {\n",
       "        vertical-align: top;\n",
       "    }\n",
       "\n",
       "    .dataframe thead th {\n",
       "        text-align: right;\n",
       "    }\n",
       "</style>\n",
       "<table border=\"1\" class=\"dataframe\">\n",
       "  <thead>\n",
       "    <tr style=\"text-align: right;\">\n",
       "      <th></th>\n",
       "      <th>0</th>\n",
       "      <th>1</th>\n",
       "      <th>2</th>\n",
       "    </tr>\n",
       "  </thead>\n",
       "  <tbody>\n",
       "    <tr>\n",
       "      <th>0</th>\n",
       "      <td>4.630084</td>\n",
       "      <td>0.019006</td>\n",
       "      <td>-0.713646</td>\n",
       "    </tr>\n",
       "    <tr>\n",
       "      <th>1</th>\n",
       "      <td>3.956667</td>\n",
       "      <td>0.419062</td>\n",
       "      <td>-0.645862</td>\n",
       "    </tr>\n",
       "    <tr>\n",
       "      <th>2</th>\n",
       "      <td>4.295525</td>\n",
       "      <td>0.543946</td>\n",
       "      <td>-0.686984</td>\n",
       "    </tr>\n",
       "    <tr>\n",
       "      <th>3</th>\n",
       "      <td>4.312874</td>\n",
       "      <td>-0.165040</td>\n",
       "      <td>-0.613786</td>\n",
       "    </tr>\n",
       "    <tr>\n",
       "      <th>4</th>\n",
       "      <td>4.938601</td>\n",
       "      <td>0.527675</td>\n",
       "      <td>-0.475359</td>\n",
       "    </tr>\n",
       "    <tr>\n",
       "      <th>5</th>\n",
       "      <td>5.702342</td>\n",
       "      <td>0.796246</td>\n",
       "      <td>-0.657362</td>\n",
       "    </tr>\n",
       "    <tr>\n",
       "      <th>6</th>\n",
       "      <td>5.143403</td>\n",
       "      <td>0.122869</td>\n",
       "      <td>-0.096464</td>\n",
       "    </tr>\n",
       "    <tr>\n",
       "      <th>7</th>\n",
       "      <td>4.561670</td>\n",
       "      <td>0.598837</td>\n",
       "      <td>-0.367795</td>\n",
       "    </tr>\n",
       "    <tr>\n",
       "      <th>8</th>\n",
       "      <td>4.010604</td>\n",
       "      <td>0.136925</td>\n",
       "      <td>-0.482669</td>\n",
       "    </tr>\n",
       "  </tbody>\n",
       "</table>\n",
       "</div>"
      ],
      "text/plain": [
       "          0         1         2\n",
       "0  4.630084  0.019006 -0.713646\n",
       "1  3.956667  0.419062 -0.645862\n",
       "2  4.295525  0.543946 -0.686984\n",
       "3  4.312874 -0.165040 -0.613786\n",
       "4  4.938601  0.527675 -0.475359\n",
       "5  5.702342  0.796246 -0.657362\n",
       "6  5.143403  0.122869 -0.096464\n",
       "7  4.561670  0.598837 -0.367795\n",
       "8  4.010604  0.136925 -0.482669"
      ]
     },
     "execution_count": 462,
     "metadata": {},
     "output_type": "execute_result"
    }
   ],
   "source": [
    "df"
   ]
  },
  {
   "cell_type": "code",
   "execution_count": 512,
   "id": "27b1394c",
   "metadata": {},
   "outputs": [],
   "source": [
    "def plot3D(x,y,z):\n",
    "    df = pd.DataFrame({'X':x,'Y':y,'Z':z})\n",
    "    fig1 = px.scatter_3d(df[:10],x='X',y='Y',z='Z')\n",
    "    fig2 = px.scatter_3d(df[-10:],x='X',y='Y',z='Z')\n",
    "    traces = fig2.data\n",
    "\n",
    "# Add traces from the second plot to the first plot\n",
    "    for trace in traces:\n",
    "        fig1.add_trace(trace)\n",
    "\n",
    "# Show the combined plot\n",
    "    fig1.show()\n",
    "    "
   ]
  },
  {
   "cell_type": "code",
   "execution_count": 486,
   "id": "add13d7c",
   "metadata": {},
   "outputs": [],
   "source": [
    "plot3D(similar_words[:,0],similar_words[:,1],similar_words[:,0])"
   ]
  },
  {
   "cell_type": "code",
   "execution_count": 489,
   "id": "79766eec",
   "metadata": {},
   "outputs": [
    {
     "data": {
      "text/plain": [
       "(9, 3)"
      ]
     },
     "execution_count": 489,
     "metadata": {},
     "output_type": "execute_result"
    }
   ],
   "source": [
    "similar_words.shape"
   ]
  },
  {
   "cell_type": "code",
   "execution_count": 496,
   "id": "8808fd73",
   "metadata": {},
   "outputs": [
    {
     "data": {
      "text/plain": [
       "(400000, 100)"
      ]
     },
     "execution_count": 496,
     "metadata": {},
     "output_type": "execute_result"
    }
   ],
   "source": [
    "E.shape"
   ]
  },
  {
   "cell_type": "code",
   "execution_count": 509,
   "id": "13865093",
   "metadata": {},
   "outputs": [
    {
     "name": "stdout",
     "output_type": "stream",
     "text": [
      "[[ 0.6249901 ]\n",
      " [ 0.64267707]\n",
      " [ 0.6907098 ]\n",
      " ...\n",
      " [-0.2975428 ]\n",
      " [-0.47232828]\n",
      " [-0.42604652]]\n",
      "(400000,)\n",
      "0\n"
     ]
    }
   ],
   "source": [
    "scores, idx = getMostSimilarWords(E,'good',W2I,4000000)\n",
    "E_similar = E[idx]\n",
    "E_reduced_dim = reduceDim(E_similar)\n"
   ]
  },
  {
   "cell_type": "code",
   "execution_count": 510,
   "id": "217e9ca5",
   "metadata": {},
   "outputs": [
    {
     "data": {
      "text/plain": [
       "(399999, 3)"
      ]
     },
     "execution_count": 510,
     "metadata": {},
     "output_type": "execute_result"
    }
   ],
   "source": [
    "E_reduced_dim.shape"
   ]
  },
  {
   "cell_type": "code",
   "execution_count": 513,
   "id": "d37cfae5",
   "metadata": {},
   "outputs": [
    {
     "data": {
      "application/vnd.plotly.v1+json": {
       "config": {
        "plotlyServerURL": "https://plot.ly"
       },
       "data": [
        {
         "hovertemplate": "X=%{x}<br>Y=%{y}<br>Z=%{z}<extra></extra>",
         "legendgroup": "",
         "marker": {
          "color": "#636efa",
          "symbol": "circle"
         },
         "mode": "markers",
         "name": "",
         "scene": "scene",
         "showlegend": false,
         "type": "scatter3d",
         "x": [
          4.629809379577637,
          3.956418037414551,
          4.295238494873047,
          4.312653541564941,
          4.9383625984191895,
          5.702079772949219,
          5.143220901489258,
          4.561399459838867,
          4.010339736938477,
          4.676700592041016
         ],
         "y": [
          0.018694549798965454,
          0.4187808632850647,
          0.5437518358230591,
          -0.16526344418525696,
          0.526881217956543,
          0.795781672000885,
          0.1226610541343689,
          0.5989911556243896,
          0.13684505224227905,
          0.12313693761825562
         ],
         "z": [
          4.629809379577637,
          3.956418037414551,
          4.295238494873047,
          4.312653541564941,
          4.9383625984191895,
          5.702079772949219,
          5.143220901489258,
          4.561399459838867,
          4.010339736938477,
          4.676700592041016
         ]
        },
        {
         "hovertemplate": "X=%{x}<br>Y=%{y}<br>Z=%{z}<extra></extra>",
         "legendgroup": "",
         "marker": {
          "color": "#636efa",
          "symbol": "circle"
         },
         "mode": "markers",
         "name": "",
         "scene": "scene",
         "showlegend": false,
         "type": "scatter3d",
         "x": [
          -0.7248542904853821,
          -0.7937787771224976,
          -0.7461881637573242,
          -1.0697462558746338,
          -0.6331700086593628,
          -0.9146500825881958,
          -1.8114957809448242,
          -0.6515616178512573,
          -0.5084660053253174,
          -0.717373251914978
         ],
         "y": [
          -0.27922582626342773,
          -0.30783528089523315,
          -0.6234897971153259,
          -0.33590900897979736,
          0.06351332366466522,
          0.4499266445636749,
          -0.3094479739665985,
          -0.18375609815120697,
          -0.28819501399993896,
          -0.18518894910812378
         ],
         "z": [
          -0.7248542904853821,
          -0.7937787771224976,
          -0.7461881637573242,
          -1.0697462558746338,
          -0.6331700086593628,
          -0.9146500825881958,
          -1.8114957809448242,
          -0.6515616178512573,
          -0.5084660053253174,
          -0.717373251914978
         ]
        }
       ],
       "layout": {
        "legend": {
         "tracegroupgap": 0
        },
        "margin": {
         "t": 60
        },
        "scene": {
         "domain": {
          "x": [
           0,
           1
          ],
          "y": [
           0,
           1
          ]
         },
         "xaxis": {
          "title": {
           "text": "X"
          }
         },
         "yaxis": {
          "title": {
           "text": "Y"
          }
         },
         "zaxis": {
          "title": {
           "text": "Z"
          }
         }
        },
        "template": {
         "data": {
          "bar": [
           {
            "error_x": {
             "color": "#2a3f5f"
            },
            "error_y": {
             "color": "#2a3f5f"
            },
            "marker": {
             "line": {
              "color": "#E5ECF6",
              "width": 0.5
             },
             "pattern": {
              "fillmode": "overlay",
              "size": 10,
              "solidity": 0.2
             }
            },
            "type": "bar"
           }
          ],
          "barpolar": [
           {
            "marker": {
             "line": {
              "color": "#E5ECF6",
              "width": 0.5
             },
             "pattern": {
              "fillmode": "overlay",
              "size": 10,
              "solidity": 0.2
             }
            },
            "type": "barpolar"
           }
          ],
          "carpet": [
           {
            "aaxis": {
             "endlinecolor": "#2a3f5f",
             "gridcolor": "white",
             "linecolor": "white",
             "minorgridcolor": "white",
             "startlinecolor": "#2a3f5f"
            },
            "baxis": {
             "endlinecolor": "#2a3f5f",
             "gridcolor": "white",
             "linecolor": "white",
             "minorgridcolor": "white",
             "startlinecolor": "#2a3f5f"
            },
            "type": "carpet"
           }
          ],
          "choropleth": [
           {
            "colorbar": {
             "outlinewidth": 0,
             "ticks": ""
            },
            "type": "choropleth"
           }
          ],
          "contour": [
           {
            "colorbar": {
             "outlinewidth": 0,
             "ticks": ""
            },
            "colorscale": [
             [
              0,
              "#0d0887"
             ],
             [
              0.1111111111111111,
              "#46039f"
             ],
             [
              0.2222222222222222,
              "#7201a8"
             ],
             [
              0.3333333333333333,
              "#9c179e"
             ],
             [
              0.4444444444444444,
              "#bd3786"
             ],
             [
              0.5555555555555556,
              "#d8576b"
             ],
             [
              0.6666666666666666,
              "#ed7953"
             ],
             [
              0.7777777777777778,
              "#fb9f3a"
             ],
             [
              0.8888888888888888,
              "#fdca26"
             ],
             [
              1,
              "#f0f921"
             ]
            ],
            "type": "contour"
           }
          ],
          "contourcarpet": [
           {
            "colorbar": {
             "outlinewidth": 0,
             "ticks": ""
            },
            "type": "contourcarpet"
           }
          ],
          "heatmap": [
           {
            "colorbar": {
             "outlinewidth": 0,
             "ticks": ""
            },
            "colorscale": [
             [
              0,
              "#0d0887"
             ],
             [
              0.1111111111111111,
              "#46039f"
             ],
             [
              0.2222222222222222,
              "#7201a8"
             ],
             [
              0.3333333333333333,
              "#9c179e"
             ],
             [
              0.4444444444444444,
              "#bd3786"
             ],
             [
              0.5555555555555556,
              "#d8576b"
             ],
             [
              0.6666666666666666,
              "#ed7953"
             ],
             [
              0.7777777777777778,
              "#fb9f3a"
             ],
             [
              0.8888888888888888,
              "#fdca26"
             ],
             [
              1,
              "#f0f921"
             ]
            ],
            "type": "heatmap"
           }
          ],
          "heatmapgl": [
           {
            "colorbar": {
             "outlinewidth": 0,
             "ticks": ""
            },
            "colorscale": [
             [
              0,
              "#0d0887"
             ],
             [
              0.1111111111111111,
              "#46039f"
             ],
             [
              0.2222222222222222,
              "#7201a8"
             ],
             [
              0.3333333333333333,
              "#9c179e"
             ],
             [
              0.4444444444444444,
              "#bd3786"
             ],
             [
              0.5555555555555556,
              "#d8576b"
             ],
             [
              0.6666666666666666,
              "#ed7953"
             ],
             [
              0.7777777777777778,
              "#fb9f3a"
             ],
             [
              0.8888888888888888,
              "#fdca26"
             ],
             [
              1,
              "#f0f921"
             ]
            ],
            "type": "heatmapgl"
           }
          ],
          "histogram": [
           {
            "marker": {
             "pattern": {
              "fillmode": "overlay",
              "size": 10,
              "solidity": 0.2
             }
            },
            "type": "histogram"
           }
          ],
          "histogram2d": [
           {
            "colorbar": {
             "outlinewidth": 0,
             "ticks": ""
            },
            "colorscale": [
             [
              0,
              "#0d0887"
             ],
             [
              0.1111111111111111,
              "#46039f"
             ],
             [
              0.2222222222222222,
              "#7201a8"
             ],
             [
              0.3333333333333333,
              "#9c179e"
             ],
             [
              0.4444444444444444,
              "#bd3786"
             ],
             [
              0.5555555555555556,
              "#d8576b"
             ],
             [
              0.6666666666666666,
              "#ed7953"
             ],
             [
              0.7777777777777778,
              "#fb9f3a"
             ],
             [
              0.8888888888888888,
              "#fdca26"
             ],
             [
              1,
              "#f0f921"
             ]
            ],
            "type": "histogram2d"
           }
          ],
          "histogram2dcontour": [
           {
            "colorbar": {
             "outlinewidth": 0,
             "ticks": ""
            },
            "colorscale": [
             [
              0,
              "#0d0887"
             ],
             [
              0.1111111111111111,
              "#46039f"
             ],
             [
              0.2222222222222222,
              "#7201a8"
             ],
             [
              0.3333333333333333,
              "#9c179e"
             ],
             [
              0.4444444444444444,
              "#bd3786"
             ],
             [
              0.5555555555555556,
              "#d8576b"
             ],
             [
              0.6666666666666666,
              "#ed7953"
             ],
             [
              0.7777777777777778,
              "#fb9f3a"
             ],
             [
              0.8888888888888888,
              "#fdca26"
             ],
             [
              1,
              "#f0f921"
             ]
            ],
            "type": "histogram2dcontour"
           }
          ],
          "mesh3d": [
           {
            "colorbar": {
             "outlinewidth": 0,
             "ticks": ""
            },
            "type": "mesh3d"
           }
          ],
          "parcoords": [
           {
            "line": {
             "colorbar": {
              "outlinewidth": 0,
              "ticks": ""
             }
            },
            "type": "parcoords"
           }
          ],
          "pie": [
           {
            "automargin": true,
            "type": "pie"
           }
          ],
          "scatter": [
           {
            "fillpattern": {
             "fillmode": "overlay",
             "size": 10,
             "solidity": 0.2
            },
            "type": "scatter"
           }
          ],
          "scatter3d": [
           {
            "line": {
             "colorbar": {
              "outlinewidth": 0,
              "ticks": ""
             }
            },
            "marker": {
             "colorbar": {
              "outlinewidth": 0,
              "ticks": ""
             }
            },
            "type": "scatter3d"
           }
          ],
          "scattercarpet": [
           {
            "marker": {
             "colorbar": {
              "outlinewidth": 0,
              "ticks": ""
             }
            },
            "type": "scattercarpet"
           }
          ],
          "scattergeo": [
           {
            "marker": {
             "colorbar": {
              "outlinewidth": 0,
              "ticks": ""
             }
            },
            "type": "scattergeo"
           }
          ],
          "scattergl": [
           {
            "marker": {
             "colorbar": {
              "outlinewidth": 0,
              "ticks": ""
             }
            },
            "type": "scattergl"
           }
          ],
          "scattermapbox": [
           {
            "marker": {
             "colorbar": {
              "outlinewidth": 0,
              "ticks": ""
             }
            },
            "type": "scattermapbox"
           }
          ],
          "scatterpolar": [
           {
            "marker": {
             "colorbar": {
              "outlinewidth": 0,
              "ticks": ""
             }
            },
            "type": "scatterpolar"
           }
          ],
          "scatterpolargl": [
           {
            "marker": {
             "colorbar": {
              "outlinewidth": 0,
              "ticks": ""
             }
            },
            "type": "scatterpolargl"
           }
          ],
          "scatterternary": [
           {
            "marker": {
             "colorbar": {
              "outlinewidth": 0,
              "ticks": ""
             }
            },
            "type": "scatterternary"
           }
          ],
          "surface": [
           {
            "colorbar": {
             "outlinewidth": 0,
             "ticks": ""
            },
            "colorscale": [
             [
              0,
              "#0d0887"
             ],
             [
              0.1111111111111111,
              "#46039f"
             ],
             [
              0.2222222222222222,
              "#7201a8"
             ],
             [
              0.3333333333333333,
              "#9c179e"
             ],
             [
              0.4444444444444444,
              "#bd3786"
             ],
             [
              0.5555555555555556,
              "#d8576b"
             ],
             [
              0.6666666666666666,
              "#ed7953"
             ],
             [
              0.7777777777777778,
              "#fb9f3a"
             ],
             [
              0.8888888888888888,
              "#fdca26"
             ],
             [
              1,
              "#f0f921"
             ]
            ],
            "type": "surface"
           }
          ],
          "table": [
           {
            "cells": {
             "fill": {
              "color": "#EBF0F8"
             },
             "line": {
              "color": "white"
             }
            },
            "header": {
             "fill": {
              "color": "#C8D4E3"
             },
             "line": {
              "color": "white"
             }
            },
            "type": "table"
           }
          ]
         },
         "layout": {
          "annotationdefaults": {
           "arrowcolor": "#2a3f5f",
           "arrowhead": 0,
           "arrowwidth": 1
          },
          "autotypenumbers": "strict",
          "coloraxis": {
           "colorbar": {
            "outlinewidth": 0,
            "ticks": ""
           }
          },
          "colorscale": {
           "diverging": [
            [
             0,
             "#8e0152"
            ],
            [
             0.1,
             "#c51b7d"
            ],
            [
             0.2,
             "#de77ae"
            ],
            [
             0.3,
             "#f1b6da"
            ],
            [
             0.4,
             "#fde0ef"
            ],
            [
             0.5,
             "#f7f7f7"
            ],
            [
             0.6,
             "#e6f5d0"
            ],
            [
             0.7,
             "#b8e186"
            ],
            [
             0.8,
             "#7fbc41"
            ],
            [
             0.9,
             "#4d9221"
            ],
            [
             1,
             "#276419"
            ]
           ],
           "sequential": [
            [
             0,
             "#0d0887"
            ],
            [
             0.1111111111111111,
             "#46039f"
            ],
            [
             0.2222222222222222,
             "#7201a8"
            ],
            [
             0.3333333333333333,
             "#9c179e"
            ],
            [
             0.4444444444444444,
             "#bd3786"
            ],
            [
             0.5555555555555556,
             "#d8576b"
            ],
            [
             0.6666666666666666,
             "#ed7953"
            ],
            [
             0.7777777777777778,
             "#fb9f3a"
            ],
            [
             0.8888888888888888,
             "#fdca26"
            ],
            [
             1,
             "#f0f921"
            ]
           ],
           "sequentialminus": [
            [
             0,
             "#0d0887"
            ],
            [
             0.1111111111111111,
             "#46039f"
            ],
            [
             0.2222222222222222,
             "#7201a8"
            ],
            [
             0.3333333333333333,
             "#9c179e"
            ],
            [
             0.4444444444444444,
             "#bd3786"
            ],
            [
             0.5555555555555556,
             "#d8576b"
            ],
            [
             0.6666666666666666,
             "#ed7953"
            ],
            [
             0.7777777777777778,
             "#fb9f3a"
            ],
            [
             0.8888888888888888,
             "#fdca26"
            ],
            [
             1,
             "#f0f921"
            ]
           ]
          },
          "colorway": [
           "#636efa",
           "#EF553B",
           "#00cc96",
           "#ab63fa",
           "#FFA15A",
           "#19d3f3",
           "#FF6692",
           "#B6E880",
           "#FF97FF",
           "#FECB52"
          ],
          "font": {
           "color": "#2a3f5f"
          },
          "geo": {
           "bgcolor": "white",
           "lakecolor": "white",
           "landcolor": "#E5ECF6",
           "showlakes": true,
           "showland": true,
           "subunitcolor": "white"
          },
          "hoverlabel": {
           "align": "left"
          },
          "hovermode": "closest",
          "mapbox": {
           "style": "light"
          },
          "paper_bgcolor": "white",
          "plot_bgcolor": "#E5ECF6",
          "polar": {
           "angularaxis": {
            "gridcolor": "white",
            "linecolor": "white",
            "ticks": ""
           },
           "bgcolor": "#E5ECF6",
           "radialaxis": {
            "gridcolor": "white",
            "linecolor": "white",
            "ticks": ""
           }
          },
          "scene": {
           "xaxis": {
            "backgroundcolor": "#E5ECF6",
            "gridcolor": "white",
            "gridwidth": 2,
            "linecolor": "white",
            "showbackground": true,
            "ticks": "",
            "zerolinecolor": "white"
           },
           "yaxis": {
            "backgroundcolor": "#E5ECF6",
            "gridcolor": "white",
            "gridwidth": 2,
            "linecolor": "white",
            "showbackground": true,
            "ticks": "",
            "zerolinecolor": "white"
           },
           "zaxis": {
            "backgroundcolor": "#E5ECF6",
            "gridcolor": "white",
            "gridwidth": 2,
            "linecolor": "white",
            "showbackground": true,
            "ticks": "",
            "zerolinecolor": "white"
           }
          },
          "shapedefaults": {
           "line": {
            "color": "#2a3f5f"
           }
          },
          "ternary": {
           "aaxis": {
            "gridcolor": "white",
            "linecolor": "white",
            "ticks": ""
           },
           "baxis": {
            "gridcolor": "white",
            "linecolor": "white",
            "ticks": ""
           },
           "bgcolor": "#E5ECF6",
           "caxis": {
            "gridcolor": "white",
            "linecolor": "white",
            "ticks": ""
           }
          },
          "title": {
           "x": 0.05
          },
          "xaxis": {
           "automargin": true,
           "gridcolor": "white",
           "linecolor": "white",
           "ticks": "",
           "title": {
            "standoff": 15
           },
           "zerolinecolor": "white",
           "zerolinewidth": 2
          },
          "yaxis": {
           "automargin": true,
           "gridcolor": "white",
           "linecolor": "white",
           "ticks": "",
           "title": {
            "standoff": 15
           },
           "zerolinecolor": "white",
           "zerolinewidth": 2
          }
         }
        }
       }
      },
      "text/html": [
       "<div>                            <div id=\"43acf21a-9a6c-4806-8afc-485131eb406e\" class=\"plotly-graph-div\" style=\"height:525px; width:100%;\"></div>            <script type=\"text/javascript\">                require([\"plotly\"], function(Plotly) {                    window.PLOTLYENV=window.PLOTLYENV || {};                                    if (document.getElementById(\"43acf21a-9a6c-4806-8afc-485131eb406e\")) {                    Plotly.newPlot(                        \"43acf21a-9a6c-4806-8afc-485131eb406e\",                        [{\"hovertemplate\":\"X=%{x}<br>Y=%{y}<br>Z=%{z}<extra></extra>\",\"legendgroup\":\"\",\"marker\":{\"color\":\"#636efa\",\"symbol\":\"circle\"},\"mode\":\"markers\",\"name\":\"\",\"scene\":\"scene\",\"showlegend\":false,\"x\":[4.629809379577637,3.956418037414551,4.295238494873047,4.312653541564941,4.9383625984191895,5.702079772949219,5.143220901489258,4.561399459838867,4.010339736938477,4.676700592041016],\"y\":[0.018694549798965454,0.4187808632850647,0.5437518358230591,-0.16526344418525696,0.526881217956543,0.795781672000885,0.1226610541343689,0.5989911556243896,0.13684505224227905,0.12313693761825562],\"z\":[4.629809379577637,3.956418037414551,4.295238494873047,4.312653541564941,4.9383625984191895,5.702079772949219,5.143220901489258,4.561399459838867,4.010339736938477,4.676700592041016],\"type\":\"scatter3d\"},{\"hovertemplate\":\"X=%{x}<br>Y=%{y}<br>Z=%{z}<extra></extra>\",\"legendgroup\":\"\",\"marker\":{\"color\":\"#636efa\",\"symbol\":\"circle\"},\"mode\":\"markers\",\"name\":\"\",\"scene\":\"scene\",\"showlegend\":false,\"x\":[-0.7248542904853821,-0.7937787771224976,-0.7461881637573242,-1.0697462558746338,-0.6331700086593628,-0.9146500825881958,-1.8114957809448242,-0.6515616178512573,-0.5084660053253174,-0.717373251914978],\"y\":[-0.27922582626342773,-0.30783528089523315,-0.6234897971153259,-0.33590900897979736,0.06351332366466522,0.4499266445636749,-0.3094479739665985,-0.18375609815120697,-0.28819501399993896,-0.18518894910812378],\"z\":[-0.7248542904853821,-0.7937787771224976,-0.7461881637573242,-1.0697462558746338,-0.6331700086593628,-0.9146500825881958,-1.8114957809448242,-0.6515616178512573,-0.5084660053253174,-0.717373251914978],\"type\":\"scatter3d\"}],                        {\"template\":{\"data\":{\"histogram2dcontour\":[{\"type\":\"histogram2dcontour\",\"colorbar\":{\"outlinewidth\":0,\"ticks\":\"\"},\"colorscale\":[[0.0,\"#0d0887\"],[0.1111111111111111,\"#46039f\"],[0.2222222222222222,\"#7201a8\"],[0.3333333333333333,\"#9c179e\"],[0.4444444444444444,\"#bd3786\"],[0.5555555555555556,\"#d8576b\"],[0.6666666666666666,\"#ed7953\"],[0.7777777777777778,\"#fb9f3a\"],[0.8888888888888888,\"#fdca26\"],[1.0,\"#f0f921\"]]}],\"choropleth\":[{\"type\":\"choropleth\",\"colorbar\":{\"outlinewidth\":0,\"ticks\":\"\"}}],\"histogram2d\":[{\"type\":\"histogram2d\",\"colorbar\":{\"outlinewidth\":0,\"ticks\":\"\"},\"colorscale\":[[0.0,\"#0d0887\"],[0.1111111111111111,\"#46039f\"],[0.2222222222222222,\"#7201a8\"],[0.3333333333333333,\"#9c179e\"],[0.4444444444444444,\"#bd3786\"],[0.5555555555555556,\"#d8576b\"],[0.6666666666666666,\"#ed7953\"],[0.7777777777777778,\"#fb9f3a\"],[0.8888888888888888,\"#fdca26\"],[1.0,\"#f0f921\"]]}],\"heatmap\":[{\"type\":\"heatmap\",\"colorbar\":{\"outlinewidth\":0,\"ticks\":\"\"},\"colorscale\":[[0.0,\"#0d0887\"],[0.1111111111111111,\"#46039f\"],[0.2222222222222222,\"#7201a8\"],[0.3333333333333333,\"#9c179e\"],[0.4444444444444444,\"#bd3786\"],[0.5555555555555556,\"#d8576b\"],[0.6666666666666666,\"#ed7953\"],[0.7777777777777778,\"#fb9f3a\"],[0.8888888888888888,\"#fdca26\"],[1.0,\"#f0f921\"]]}],\"heatmapgl\":[{\"type\":\"heatmapgl\",\"colorbar\":{\"outlinewidth\":0,\"ticks\":\"\"},\"colorscale\":[[0.0,\"#0d0887\"],[0.1111111111111111,\"#46039f\"],[0.2222222222222222,\"#7201a8\"],[0.3333333333333333,\"#9c179e\"],[0.4444444444444444,\"#bd3786\"],[0.5555555555555556,\"#d8576b\"],[0.6666666666666666,\"#ed7953\"],[0.7777777777777778,\"#fb9f3a\"],[0.8888888888888888,\"#fdca26\"],[1.0,\"#f0f921\"]]}],\"contourcarpet\":[{\"type\":\"contourcarpet\",\"colorbar\":{\"outlinewidth\":0,\"ticks\":\"\"}}],\"contour\":[{\"type\":\"contour\",\"colorbar\":{\"outlinewidth\":0,\"ticks\":\"\"},\"colorscale\":[[0.0,\"#0d0887\"],[0.1111111111111111,\"#46039f\"],[0.2222222222222222,\"#7201a8\"],[0.3333333333333333,\"#9c179e\"],[0.4444444444444444,\"#bd3786\"],[0.5555555555555556,\"#d8576b\"],[0.6666666666666666,\"#ed7953\"],[0.7777777777777778,\"#fb9f3a\"],[0.8888888888888888,\"#fdca26\"],[1.0,\"#f0f921\"]]}],\"surface\":[{\"type\":\"surface\",\"colorbar\":{\"outlinewidth\":0,\"ticks\":\"\"},\"colorscale\":[[0.0,\"#0d0887\"],[0.1111111111111111,\"#46039f\"],[0.2222222222222222,\"#7201a8\"],[0.3333333333333333,\"#9c179e\"],[0.4444444444444444,\"#bd3786\"],[0.5555555555555556,\"#d8576b\"],[0.6666666666666666,\"#ed7953\"],[0.7777777777777778,\"#fb9f3a\"],[0.8888888888888888,\"#fdca26\"],[1.0,\"#f0f921\"]]}],\"mesh3d\":[{\"type\":\"mesh3d\",\"colorbar\":{\"outlinewidth\":0,\"ticks\":\"\"}}],\"scatter\":[{\"fillpattern\":{\"fillmode\":\"overlay\",\"size\":10,\"solidity\":0.2},\"type\":\"scatter\"}],\"parcoords\":[{\"type\":\"parcoords\",\"line\":{\"colorbar\":{\"outlinewidth\":0,\"ticks\":\"\"}}}],\"scatterpolargl\":[{\"type\":\"scatterpolargl\",\"marker\":{\"colorbar\":{\"outlinewidth\":0,\"ticks\":\"\"}}}],\"bar\":[{\"error_x\":{\"color\":\"#2a3f5f\"},\"error_y\":{\"color\":\"#2a3f5f\"},\"marker\":{\"line\":{\"color\":\"#E5ECF6\",\"width\":0.5},\"pattern\":{\"fillmode\":\"overlay\",\"size\":10,\"solidity\":0.2}},\"type\":\"bar\"}],\"scattergeo\":[{\"type\":\"scattergeo\",\"marker\":{\"colorbar\":{\"outlinewidth\":0,\"ticks\":\"\"}}}],\"scatterpolar\":[{\"type\":\"scatterpolar\",\"marker\":{\"colorbar\":{\"outlinewidth\":0,\"ticks\":\"\"}}}],\"histogram\":[{\"marker\":{\"pattern\":{\"fillmode\":\"overlay\",\"size\":10,\"solidity\":0.2}},\"type\":\"histogram\"}],\"scattergl\":[{\"type\":\"scattergl\",\"marker\":{\"colorbar\":{\"outlinewidth\":0,\"ticks\":\"\"}}}],\"scatter3d\":[{\"type\":\"scatter3d\",\"line\":{\"colorbar\":{\"outlinewidth\":0,\"ticks\":\"\"}},\"marker\":{\"colorbar\":{\"outlinewidth\":0,\"ticks\":\"\"}}}],\"scattermapbox\":[{\"type\":\"scattermapbox\",\"marker\":{\"colorbar\":{\"outlinewidth\":0,\"ticks\":\"\"}}}],\"scatterternary\":[{\"type\":\"scatterternary\",\"marker\":{\"colorbar\":{\"outlinewidth\":0,\"ticks\":\"\"}}}],\"scattercarpet\":[{\"type\":\"scattercarpet\",\"marker\":{\"colorbar\":{\"outlinewidth\":0,\"ticks\":\"\"}}}],\"carpet\":[{\"aaxis\":{\"endlinecolor\":\"#2a3f5f\",\"gridcolor\":\"white\",\"linecolor\":\"white\",\"minorgridcolor\":\"white\",\"startlinecolor\":\"#2a3f5f\"},\"baxis\":{\"endlinecolor\":\"#2a3f5f\",\"gridcolor\":\"white\",\"linecolor\":\"white\",\"minorgridcolor\":\"white\",\"startlinecolor\":\"#2a3f5f\"},\"type\":\"carpet\"}],\"table\":[{\"cells\":{\"fill\":{\"color\":\"#EBF0F8\"},\"line\":{\"color\":\"white\"}},\"header\":{\"fill\":{\"color\":\"#C8D4E3\"},\"line\":{\"color\":\"white\"}},\"type\":\"table\"}],\"barpolar\":[{\"marker\":{\"line\":{\"color\":\"#E5ECF6\",\"width\":0.5},\"pattern\":{\"fillmode\":\"overlay\",\"size\":10,\"solidity\":0.2}},\"type\":\"barpolar\"}],\"pie\":[{\"automargin\":true,\"type\":\"pie\"}]},\"layout\":{\"autotypenumbers\":\"strict\",\"colorway\":[\"#636efa\",\"#EF553B\",\"#00cc96\",\"#ab63fa\",\"#FFA15A\",\"#19d3f3\",\"#FF6692\",\"#B6E880\",\"#FF97FF\",\"#FECB52\"],\"font\":{\"color\":\"#2a3f5f\"},\"hovermode\":\"closest\",\"hoverlabel\":{\"align\":\"left\"},\"paper_bgcolor\":\"white\",\"plot_bgcolor\":\"#E5ECF6\",\"polar\":{\"bgcolor\":\"#E5ECF6\",\"angularaxis\":{\"gridcolor\":\"white\",\"linecolor\":\"white\",\"ticks\":\"\"},\"radialaxis\":{\"gridcolor\":\"white\",\"linecolor\":\"white\",\"ticks\":\"\"}},\"ternary\":{\"bgcolor\":\"#E5ECF6\",\"aaxis\":{\"gridcolor\":\"white\",\"linecolor\":\"white\",\"ticks\":\"\"},\"baxis\":{\"gridcolor\":\"white\",\"linecolor\":\"white\",\"ticks\":\"\"},\"caxis\":{\"gridcolor\":\"white\",\"linecolor\":\"white\",\"ticks\":\"\"}},\"coloraxis\":{\"colorbar\":{\"outlinewidth\":0,\"ticks\":\"\"}},\"colorscale\":{\"sequential\":[[0.0,\"#0d0887\"],[0.1111111111111111,\"#46039f\"],[0.2222222222222222,\"#7201a8\"],[0.3333333333333333,\"#9c179e\"],[0.4444444444444444,\"#bd3786\"],[0.5555555555555556,\"#d8576b\"],[0.6666666666666666,\"#ed7953\"],[0.7777777777777778,\"#fb9f3a\"],[0.8888888888888888,\"#fdca26\"],[1.0,\"#f0f921\"]],\"sequentialminus\":[[0.0,\"#0d0887\"],[0.1111111111111111,\"#46039f\"],[0.2222222222222222,\"#7201a8\"],[0.3333333333333333,\"#9c179e\"],[0.4444444444444444,\"#bd3786\"],[0.5555555555555556,\"#d8576b\"],[0.6666666666666666,\"#ed7953\"],[0.7777777777777778,\"#fb9f3a\"],[0.8888888888888888,\"#fdca26\"],[1.0,\"#f0f921\"]],\"diverging\":[[0,\"#8e0152\"],[0.1,\"#c51b7d\"],[0.2,\"#de77ae\"],[0.3,\"#f1b6da\"],[0.4,\"#fde0ef\"],[0.5,\"#f7f7f7\"],[0.6,\"#e6f5d0\"],[0.7,\"#b8e186\"],[0.8,\"#7fbc41\"],[0.9,\"#4d9221\"],[1,\"#276419\"]]},\"xaxis\":{\"gridcolor\":\"white\",\"linecolor\":\"white\",\"ticks\":\"\",\"title\":{\"standoff\":15},\"zerolinecolor\":\"white\",\"automargin\":true,\"zerolinewidth\":2},\"yaxis\":{\"gridcolor\":\"white\",\"linecolor\":\"white\",\"ticks\":\"\",\"title\":{\"standoff\":15},\"zerolinecolor\":\"white\",\"automargin\":true,\"zerolinewidth\":2},\"scene\":{\"xaxis\":{\"backgroundcolor\":\"#E5ECF6\",\"gridcolor\":\"white\",\"linecolor\":\"white\",\"showbackground\":true,\"ticks\":\"\",\"zerolinecolor\":\"white\",\"gridwidth\":2},\"yaxis\":{\"backgroundcolor\":\"#E5ECF6\",\"gridcolor\":\"white\",\"linecolor\":\"white\",\"showbackground\":true,\"ticks\":\"\",\"zerolinecolor\":\"white\",\"gridwidth\":2},\"zaxis\":{\"backgroundcolor\":\"#E5ECF6\",\"gridcolor\":\"white\",\"linecolor\":\"white\",\"showbackground\":true,\"ticks\":\"\",\"zerolinecolor\":\"white\",\"gridwidth\":2}},\"shapedefaults\":{\"line\":{\"color\":\"#2a3f5f\"}},\"annotationdefaults\":{\"arrowcolor\":\"#2a3f5f\",\"arrowhead\":0,\"arrowwidth\":1},\"geo\":{\"bgcolor\":\"white\",\"landcolor\":\"#E5ECF6\",\"subunitcolor\":\"white\",\"showland\":true,\"showlakes\":true,\"lakecolor\":\"white\"},\"title\":{\"x\":0.05},\"mapbox\":{\"style\":\"light\"}}},\"scene\":{\"domain\":{\"x\":[0.0,1.0],\"y\":[0.0,1.0]},\"xaxis\":{\"title\":{\"text\":\"X\"}},\"yaxis\":{\"title\":{\"text\":\"Y\"}},\"zaxis\":{\"title\":{\"text\":\"Z\"}}},\"legend\":{\"tracegroupgap\":0},\"margin\":{\"t\":60}},                        {\"responsive\": true}                    ).then(function(){\n",
       "                            \n",
       "var gd = document.getElementById('43acf21a-9a6c-4806-8afc-485131eb406e');\n",
       "var x = new MutationObserver(function (mutations, observer) {{\n",
       "        var display = window.getComputedStyle(gd).display;\n",
       "        if (!display || display === 'none') {{\n",
       "            console.log([gd, 'removed!']);\n",
       "            Plotly.purge(gd);\n",
       "            observer.disconnect();\n",
       "        }}\n",
       "}});\n",
       "\n",
       "// Listen for the removal of the full notebook cells\n",
       "var notebookContainer = gd.closest('#notebook-container');\n",
       "if (notebookContainer) {{\n",
       "    x.observe(notebookContainer, {childList: true});\n",
       "}}\n",
       "\n",
       "// Listen for the clearing of the current output cell\n",
       "var outputEl = gd.closest('.output');\n",
       "if (outputEl) {{\n",
       "    x.observe(outputEl, {childList: true});\n",
       "}}\n",
       "\n",
       "                        })                };                });            </script>        </div>"
      ]
     },
     "metadata": {},
     "output_type": "display_data"
    }
   ],
   "source": [
    "plot3D(E_reduced_dim[:,0],E_reduced_dim[:,1],E_reduced_dim[:,0])"
   ]
  },
  {
   "cell_type": "code",
   "execution_count": null,
   "id": "aa5afe0a",
   "metadata": {},
   "outputs": [],
   "source": []
  }
 ],
 "metadata": {
  "kernelspec": {
   "display_name": "Python 3 (ipykernel)",
   "language": "python",
   "name": "python3"
  },
  "language_info": {
   "codemirror_mode": {
    "name": "ipython",
    "version": 3
   },
   "file_extension": ".py",
   "mimetype": "text/x-python",
   "name": "python",
   "nbconvert_exporter": "python",
   "pygments_lexer": "ipython3",
   "version": "3.11.5"
  }
 },
 "nbformat": 4,
 "nbformat_minor": 5
}
