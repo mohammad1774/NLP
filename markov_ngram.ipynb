{
 "cells": [
  {
   "cell_type": "code",
   "execution_count": 1,
   "id": "b4860042",
   "metadata": {},
   "outputs": [],
   "source": [
    "import spacy\n",
    "import numpy as np\n",
    "import re\n",
    "nlp = spacy.load('en_core_web_sm')"
   ]
  },
  {
   "cell_type": "code",
   "execution_count": 26,
   "id": "a4cd604d",
   "metadata": {},
   "outputs": [],
   "source": [
    "def nGrams(doc_string_or_list,n,docIsAlreadyTokenised):\n",
    "    doc = doc_string_or_list\n",
    "    if not docIsAlreadyTokenised:\n",
    "        doc = [token.text for token in nlp(doc_string_or_list)]\n",
    "    doc = ' '.join(doc).lower().split(' ')\n",
    "    grams = [doc[i:i+n] for i in range(len(doc)-n+1)]\n",
    "    return grams"
   ]
  },
  {
   "cell_type": "code",
   "execution_count": 12,
   "id": "0b231058",
   "metadata": {},
   "outputs": [],
   "source": [
    "doc = 'how old are you today or can you tell me something about today'\n",
    "n = 3\n",
    "grams = nGrams(doc,n,False)"
   ]
  },
  {
   "cell_type": "code",
   "execution_count": 13,
   "id": "582f1018",
   "metadata": {},
   "outputs": [
    {
     "data": {
      "text/plain": [
       "[['how', 'old', 'are'],\n",
       " ['old', 'are', 'you'],\n",
       " ['are', 'you', 'today'],\n",
       " ['you', 'today', 'or'],\n",
       " ['today', 'or', 'can'],\n",
       " ['or', 'can', 'you'],\n",
       " ['can', 'you', 'tell'],\n",
       " ['you', 'tell', 'me'],\n",
       " ['tell', 'me', 'something'],\n",
       " ['me', 'something', 'about'],\n",
       " ['something', 'about', 'today']]"
      ]
     },
     "execution_count": 13,
     "metadata": {},
     "output_type": "execute_result"
    }
   ],
   "source": [
    "grams"
   ]
  },
  {
   "cell_type": "code",
   "execution_count": 14,
   "id": "9037b6f1",
   "metadata": {},
   "outputs": [],
   "source": [
    "from collections import defaultdict"
   ]
  },
  {
   "cell_type": "code",
   "execution_count": 15,
   "id": "1177220b",
   "metadata": {},
   "outputs": [],
   "source": [
    "def buildModel():\n",
    "    model = defaultdict(lambda: defaultdict(lambda: 0))\n",
    "    return model"
   ]
  },
  {
   "cell_type": "code",
   "execution_count": 16,
   "id": "e61a311e",
   "metadata": {},
   "outputs": [
    {
     "data": {
      "text/plain": [
       "defaultdict(<function __main__.buildModel.<locals>.<lambda>()>, {})"
      ]
     },
     "execution_count": 16,
     "metadata": {},
     "output_type": "execute_result"
    }
   ],
   "source": [
    "buildModel()"
   ]
  },
  {
   "cell_type": "code",
   "execution_count": 17,
   "id": "9d5327c3",
   "metadata": {},
   "outputs": [],
   "source": [
    "def updateCount(nGram,model):\n",
    "    w_1_to_n_minus_1 = tuple(nGram[:-1])\n",
    "    w_n = nGram[-1]\n",
    "    model[w_1_to_n_minus_1][w_n]+=1\n",
    "    return model"
   ]
  },
  {
   "cell_type": "code",
   "execution_count": 18,
   "id": "46539d56",
   "metadata": {},
   "outputs": [],
   "source": [
    "def computeProbability(model):\n",
    "    for w_1_to_n_minus_1 in model:\n",
    "        totalCount = sum(modle[w_1_to_n_minus_1].values())\n",
    "        for w_n in model[w_1_to_n_minus_1]:\n",
    "            model[w_1_to_n_minus_1][w_n] /= totalCount\n",
    "    return model"
   ]
  },
  {
   "cell_type": "code",
   "execution_count": 19,
   "id": "a2710390",
   "metadata": {},
   "outputs": [
    {
     "name": "stdout",
     "output_type": "stream",
     "text": [
      "Defaulting to user installation because normal site-packages is not writeable\n",
      "Requirement already satisfied: dill in f:\\anaconda\\lib\\site-packages (0.3.6)\n",
      "Note: you may need to restart the kernel to use updated packages.\n"
     ]
    }
   ],
   "source": [
    "pip install dill"
   ]
  },
  {
   "cell_type": "code",
   "execution_count": 20,
   "id": "0bbc8078",
   "metadata": {},
   "outputs": [],
   "source": [
    "import dill"
   ]
  },
  {
   "cell_type": "code",
   "execution_count": 21,
   "id": "b119308b",
   "metadata": {},
   "outputs": [],
   "source": [
    "def saveModel(model,fileNameDotpkl):\n",
    "    with open(fileNameDotpkl,'wb') as f:\n",
    "        dill.dump(model,f)\n",
    "def loadModel(fileNameDotpkl):\n",
    "    with open(fileNameDotpkl,'r') as f:\n",
    "        model = dill.load(f)\n",
    "    return model"
   ]
  },
  {
   "cell_type": "code",
   "execution_count": 22,
   "id": "e03590b1",
   "metadata": {},
   "outputs": [],
   "source": [
    "from sklearn.datasets import fetch_20newsgroups as getData\n",
    "from nltk.corpus import reuters as corpus"
   ]
  },
  {
   "cell_type": "code",
   "execution_count": 24,
   "id": "e6b06c21",
   "metadata": {},
   "outputs": [],
   "source": [
    "X,y = getData(subset='train',remove=('headers','footers','coutes'),return_X_y=True)"
   ]
  },
  {
   "cell_type": "code",
   "execution_count": 25,
   "id": "0310ef6a",
   "metadata": {},
   "outputs": [],
   "source": [
    "n = 3\n",
    "model = buildModel()\n"
   ]
  },
  {
   "cell_type": "code",
   "execution_count": 28,
   "id": "ccff96d1",
   "metadata": {},
   "outputs": [],
   "source": [
    "for doc in X:\n",
    "    for nGram in nGrams(doc,n,False):\n",
    "            model = updateCount(nGram,model)"
   ]
  },
  {
   "cell_type": "code",
   "execution_count": 29,
   "id": "c7b11cba",
   "metadata": {},
   "outputs": [],
   "source": [
    "saveModel(model,'dict_model.pkl')"
   ]
  },
  {
   "cell_type": "code",
   "execution_count": null,
   "id": "6f139fe7",
   "metadata": {},
   "outputs": [],
   "source": [
    "for sentence in corpus.sents():\n",
    "    print(sentence)\n",
    "    break"
   ]
  }
 ],
 "metadata": {
  "kernelspec": {
   "display_name": "Python 3 (ipykernel)",
   "language": "python",
   "name": "python3"
  },
  "language_info": {
   "codemirror_mode": {
    "name": "ipython",
    "version": 3
   },
   "file_extension": ".py",
   "mimetype": "text/x-python",
   "name": "python",
   "nbconvert_exporter": "python",
   "pygments_lexer": "ipython3",
   "version": "3.11.5"
  }
 },
 "nbformat": 4,
 "nbformat_minor": 5
}
