{
 "cells": [
  {
   "cell_type": "code",
   "execution_count": 1,
   "id": "b4ba2926",
   "metadata": {},
   "outputs": [],
   "source": [
    "import spacy\n",
    "import numpy as np\n",
    "import re\n",
    "nlp = spacy.load('en_core_web_sm')"
   ]
  },
  {
   "cell_type": "code",
   "execution_count": 26,
   "id": "87dd2100",
   "metadata": {},
   "outputs": [],
   "source": [
    "def nGrams(doc_string_or_list,n,docIsAlreadyTokenised):\n",
    "    doc = doc_string_or_list\n",
    "    if not docIsAlreadyTokenised:\n",
    "        doc = [token.text for token in nlp(doc_string_or_list)]\n",
    "    doc = ' '.join(doc).lower().split(' ')\n",
    "    grams = [doc[i:i+n] for i in range(len(doc)-n+1)]\n",
    "    return grams"
   ]
  },
  {
   "cell_type": "code",
   "execution_count": 12,
   "id": "e6e1a76f",
   "metadata": {},
   "outputs": [],
   "source": [
    "doc = 'how old are you today or can you tell me something about today'\n",
    "n = 3\n",
    "grams = nGrams(doc,n,False)"
   ]
  },
  {
   "cell_type": "code",
   "execution_count": 13,
   "id": "f28e3d26",
   "metadata": {},
   "outputs": [
    {
     "data": {
      "text/plain": [
       "[['how', 'old', 'are'],\n",
       " ['old', 'are', 'you'],\n",
       " ['are', 'you', 'today'],\n",
       " ['you', 'today', 'or'],\n",
       " ['today', 'or', 'can'],\n",
       " ['or', 'can', 'you'],\n",
       " ['can', 'you', 'tell'],\n",
       " ['you', 'tell', 'me'],\n",
       " ['tell', 'me', 'something'],\n",
       " ['me', 'something', 'about'],\n",
       " ['something', 'about', 'today']]"
      ]
     },
     "execution_count": 13,
     "metadata": {},
     "output_type": "execute_result"
    }
   ],
   "source": [
    "grams"
   ]
  },
  {
   "cell_type": "code",
   "execution_count": 14,
   "id": "96e998c3",
   "metadata": {},
   "outputs": [],
   "source": [
    "from collections import defaultdict"
   ]
  },
  {
   "cell_type": "code",
   "execution_count": 15,
   "id": "b217cb4a",
   "metadata": {},
   "outputs": [],
   "source": [
    "def buildModel():\n",
    "    model = defaultdict(lambda: defaultdict(lambda: 0))\n",
    "    return model"
   ]
  },
  {
   "cell_type": "code",
   "execution_count": 16,
   "id": "87da4d12",
   "metadata": {},
   "outputs": [
    {
     "data": {
      "text/plain": [
       "defaultdict(<function __main__.buildModel.<locals>.<lambda>()>, {})"
      ]
     },
     "execution_count": 16,
     "metadata": {},
     "output_type": "execute_result"
    }
   ],
   "source": [
    "buildModel()"
   ]
  },
  {
   "cell_type": "code",
   "execution_count": 17,
   "id": "d6fcd96e",
   "metadata": {},
   "outputs": [],
   "source": [
    "def updateCount(nGram,model):\n",
    "    w_1_to_n_minus_1 = tuple(nGram[:-1])\n",
    "    w_n = nGram[-1]\n",
    "    model[w_1_to_n_minus_1][w_n]+=1\n",
    "    return model"
   ]
  },
  {
   "cell_type": "code",
   "execution_count": 38,
   "id": "5466f298",
   "metadata": {},
   "outputs": [],
   "source": [
    "def computeProbability(model):\n",
    "    for w_1_to_n_minus_1 in model:\n",
    "        totalCount = float(sum(model[w_1_to_n_minus_1].values()))\n",
    "        for w_n in model[w_1_to_n_minus_1]:\n",
    "            model[w_1_to_n_minus_1][w_n] /= totalCount\n",
    "    return model"
   ]
  },
  {
   "cell_type": "code",
   "execution_count": 19,
   "id": "b52bf101",
   "metadata": {},
   "outputs": [
    {
     "name": "stdout",
     "output_type": "stream",
     "text": [
      "Defaulting to user installation because normal site-packages is not writeable\n",
      "Requirement already satisfied: dill in f:\\anaconda\\lib\\site-packages (0.3.6)\n",
      "Note: you may need to restart the kernel to use updated packages.\n"
     ]
    }
   ],
   "source": [
    "pip install dill"
   ]
  },
  {
   "cell_type": "code",
   "execution_count": 20,
   "id": "699df3f1",
   "metadata": {},
   "outputs": [],
   "source": [
    "import dill"
   ]
  },
  {
   "cell_type": "code",
   "execution_count": 21,
   "id": "fed63290",
   "metadata": {},
   "outputs": [],
   "source": [
    "def saveModel(model,fileNameDotpkl):\n",
    "    with open(fileNameDotpkl,'wb') as f:\n",
    "        dill.dump(model,f)\n",
    "def loadModel(fileNameDotpkl):\n",
    "    with open(fileNameDotpkl,'r') as f:\n",
    "        model = dill.load(f)\n",
    "    return model"
   ]
  },
  {
   "cell_type": "code",
   "execution_count": 33,
   "id": "e2a490da",
   "metadata": {},
   "outputs": [],
   "source": [
    "from sklearn.datasets import fetch_20newsgroups as getData\n",
    "from nltk.corpus import reuters as corpus"
   ]
  },
  {
   "cell_type": "code",
   "execution_count": 24,
   "id": "a9660e71",
   "metadata": {},
   "outputs": [],
   "source": [
    "X,y = getData(subset='train',remove=('headers','footers','coutes'),return_X_y=True)"
   ]
  },
  {
   "cell_type": "code",
   "execution_count": 25,
   "id": "351d4d9f",
   "metadata": {},
   "outputs": [],
   "source": [
    "n = 3\n",
    "model = buildModel()\n"
   ]
  },
  {
   "cell_type": "code",
   "execution_count": 28,
   "id": "049c4794",
   "metadata": {},
   "outputs": [],
   "source": [
    "for doc in X:\n",
    "    for nGram in nGrams(doc,n,False):\n",
    "            model = updateCount(nGram,model)"
   ]
  },
  {
   "cell_type": "code",
   "execution_count": 29,
   "id": "701849ce",
   "metadata": {},
   "outputs": [],
   "source": [
    "saveModel(model,'dict_model.pkl')"
   ]
  },
  {
   "cell_type": "code",
   "execution_count": 35,
   "id": "e3d38c47",
   "metadata": {},
   "outputs": [],
   "source": [
    "for sentence in corpus.sents():\n",
    "       for nGram in nGrams(sentence,n,True):\n",
    "            model = updateCount(nGram,model)"
   ]
  },
  {
   "cell_type": "code",
   "execution_count": 39,
   "id": "325ff66e",
   "metadata": {},
   "outputs": [],
   "source": [
    "model = computeProbability(model)\n",
    "saveModel(model,'model.pkl')"
   ]
  },
  {
   "cell_type": "code",
   "execution_count": 50,
   "id": "7851b2eb",
   "metadata": {},
   "outputs": [
    {
     "data": {
      "text/plain": [
       "';'"
      ]
     },
     "execution_count": 50,
     "metadata": {},
     "output_type": "execute_result"
    }
   ],
   "source": [
    "text = ['after','that']\n",
    "nextWords = list(model[tuple(text[-n+1:])].keys())\n",
    "probs = list(model[tuple(text[-n+1:])].values())\n",
    "nextword = np.random.choice(nextWords,1,probs)[0]\n",
    "nextword"
   ]
  },
  {
   "cell_type": "code",
   "execution_count": 45,
   "id": "3ec3659c",
   "metadata": {},
   "outputs": [
    {
     "data": {
      "text/plain": [
       "dict_keys(['.', ',', 'date', 'the', 'i', 'he', 'it', 'time', '\\n\\t', 'and', 'we', 'they', 'oh', 'post', 'thou', 'tribulation', 'step', 'or', 'space', 'night', '$', 'those', 'only', ';', '\\n', 'of', '!', 'at', 'meeting', 'will'])"
      ]
     },
     "execution_count": 45,
     "metadata": {},
     "output_type": "execute_result"
    }
   ],
   "source": [
    "nextWords"
   ]
  },
  {
   "cell_type": "code",
   "execution_count": 46,
   "id": "a6677d36",
   "metadata": {},
   "outputs": [
    {
     "data": {
      "text/plain": [
       "[0.12,\n",
       " 0.30666666666666664,\n",
       " 0.02666666666666667,\n",
       " 0.02666666666666667,\n",
       " 0.08,\n",
       " 0.05333333333333334,\n",
       " 0.013333333333333334,\n",
       " 0.013333333333333334,\n",
       " 0.013333333333333334,\n",
       " 0.02666666666666667,\n",
       " 0.02666666666666667,\n",
       " 0.013333333333333334,\n",
       " 0.04,\n",
       " 0.013333333333333334,\n",
       " 0.013333333333333334,\n",
       " 0.013333333333333334,\n",
       " 0.013333333333333334,\n",
       " 0.013333333333333334,\n",
       " 0.013333333333333334,\n",
       " 0.013333333333333334,\n",
       " 0.013333333333333334,\n",
       " 0.013333333333333334,\n",
       " 0.013333333333333334,\n",
       " 0.013333333333333334,\n",
       " 0.013333333333333334,\n",
       " 0.013333333333333334,\n",
       " 0.013333333333333334,\n",
       " 0.013333333333333334,\n",
       " 0.02666666666666667,\n",
       " 0.013333333333333334]"
      ]
     },
     "execution_count": 46,
     "metadata": {},
     "output_type": "execute_result"
    }
   ],
   "source": [
    "probs"
   ]
  },
  {
   "cell_type": "code",
   "execution_count": 131,
   "id": "1ec6f269",
   "metadata": {},
   "outputs": [],
   "source": [
    "def sampleText(model,starting_text=['after','that'],max_length=100,nGramsize=3):\n",
    "    text = starting_text\n",
    "    n = nGramsize\n",
    "    while not len(text)>max_length:\n",
    "        nextWords = list(model[tuple(text[-n+1:])].keys())\n",
    "        probs = list(model[tuple(text[-n+1:])].values())\n",
    "        if len(nextWords)>0:\n",
    "            nextword = np.argmax(probs)\n",
    "#            print(nextword)\n",
    "            text.append(nextWords[nextword])\n",
    "        else:\n",
    "            break\n",
    "    sampled = ' '.join(text)\n",
    "    return sampled"
   ]
  },
  {
   "cell_type": "code",
   "execution_count": 132,
   "id": "f71f4c41",
   "metadata": {},
   "outputs": [
    {
     "data": {
      "text/plain": [
       "\"after that , i 'm not sure if this is a \\n > > > > > > > > > > > > > > > > > > > > > > > > > > > > > > > > > > > > > > > > > > > > > > > > > > > > > > > > > > > > > > > > > > > > > > > > > > > > > > > > > > > > > > > > >\""
      ]
     },
     "execution_count": 132,
     "metadata": {},
     "output_type": "execute_result"
    }
   ],
   "source": [
    "sampleText(model)\n"
   ]
  },
  {
   "cell_type": "code",
   "execution_count": null,
   "id": "5d516f8b",
   "metadata": {},
   "outputs": [],
   "source": []
  },
  {
   "cell_type": "code",
   "execution_count": null,
   "id": "c50a8d97",
   "metadata": {},
   "outputs": [],
   "source": []
  }
 ],
 "metadata": {
  "kernelspec": {
   "display_name": "Python 3 (ipykernel)",
   "language": "python",
   "name": "python3"
  },
  "language_info": {
   "codemirror_mode": {
    "name": "ipython",
    "version": 3
   },
   "file_extension": ".py",
   "mimetype": "text/x-python",
   "name": "python",
   "nbconvert_exporter": "python",
   "pygments_lexer": "ipython3",
   "version": "3.11.5"
  }
 },
 "nbformat": 4,
 "nbformat_minor": 5
}
