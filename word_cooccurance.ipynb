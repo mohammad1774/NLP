{
 "cells": [
  {
   "cell_type": "code",
   "execution_count": 1,
   "id": "457fc476",
   "metadata": {},
   "outputs": [],
   "source": [
    "import numpy as np\n",
    "import re"
   ]
  },
  {
   "cell_type": "code",
   "execution_count": 6,
   "id": "5084cbc5",
   "metadata": {},
   "outputs": [],
   "source": [
    "from sklearn.datasets import fetch_20newsgroups as getData"
   ]
  },
  {
   "cell_type": "code",
   "execution_count": 3,
   "id": "0fefbfc3",
   "metadata": {},
   "outputs": [],
   "source": [
    "from scipy.sparse import lil_matrix"
   ]
  },
  {
   "cell_type": "code",
   "execution_count": 7,
   "id": "0b0c8c6b",
   "metadata": {},
   "outputs": [],
   "source": [
    "data = getData(subset='train',remove=('headers','footers','quotes'))\n",
    "X=data.data"
   ]
  },
  {
   "cell_type": "code",
   "execution_count": 9,
   "id": "d5a063e3",
   "metadata": {},
   "outputs": [],
   "source": [
    "x = ' '.join(X)\n"
   ]
  },
  {
   "cell_type": "code",
   "execution_count": 11,
   "id": "875a6562",
   "metadata": {},
   "outputs": [
    {
     "data": {
      "text/plain": [
       "13793298"
      ]
     },
     "execution_count": 11,
     "metadata": {},
     "output_type": "execute_result"
    }
   ],
   "source": [
    "len(x)"
   ]
  },
  {
   "cell_type": "code",
   "execution_count": 12,
   "id": "3f9bd5a5",
   "metadata": {},
   "outputs": [],
   "source": [
    "x = x.lower()"
   ]
  },
  {
   "cell_type": "code",
   "execution_count": 13,
   "id": "3ade46e8",
   "metadata": {},
   "outputs": [],
   "source": [
    "corpus_list = re.split('\\W',x)"
   ]
  },
  {
   "cell_type": "code",
   "execution_count": 14,
   "id": "efd4023f",
   "metadata": {},
   "outputs": [
    {
     "data": {
      "text/plain": [
       "3807553"
      ]
     },
     "execution_count": 14,
     "metadata": {},
     "output_type": "execute_result"
    }
   ],
   "source": [
    "len(corpus_list)"
   ]
  },
  {
   "cell_type": "code",
   "execution_count": 102,
   "id": "2a4ac68e",
   "metadata": {},
   "outputs": [],
   "source": [
    "cutOffValue = 50\n",
    "from collections import defaultdict\n",
    "frequency = defaultdict(int)\n",
    "for token in corpus_list:\n",
    "    frequency[token] += 1\n",
    "processedCorpus_list = [token for token in corpus_list if frequency[token] > cutOffValue ]"
   ]
  },
  {
   "cell_type": "code",
   "execution_count": 103,
   "id": "01a56adf",
   "metadata": {},
   "outputs": [
    {
     "data": {
      "text/plain": [
       "3423482"
      ]
     },
     "execution_count": 103,
     "metadata": {},
     "output_type": "execute_result"
    }
   ],
   "source": [
    "len(processedCorpus_list)"
   ]
  },
  {
   "cell_type": "code",
   "execution_count": 104,
   "id": "ce2645d7",
   "metadata": {},
   "outputs": [],
   "source": [
    "allWords = np.array(list(frequency.keys()))\n",
    "allCounts = np.array(list(frequency.values()))"
   ]
  },
  {
   "cell_type": "code",
   "execution_count": 105,
   "id": "f51c9363",
   "metadata": {},
   "outputs": [],
   "source": [
    "vocab = allWords[allCounts >= cutOffValue]\n",
    "wordCounts = allCounts[allCounts >= cutOffValue]"
   ]
  },
  {
   "cell_type": "code",
   "execution_count": null,
   "id": "6c6f98df",
   "metadata": {},
   "outputs": [],
   "source": []
  },
  {
   "cell_type": "code",
   "execution_count": null,
   "id": "41539229",
   "metadata": {},
   "outputs": [],
   "source": []
  },
  {
   "cell_type": "code",
   "execution_count": null,
   "id": "3ce3208b",
   "metadata": {},
   "outputs": [],
   "source": []
  },
  {
   "cell_type": "code",
   "execution_count": null,
   "id": "36aacf55",
   "metadata": {},
   "outputs": [],
   "source": []
  },
  {
   "cell_type": "code",
   "execution_count": 195,
   "id": "765cab05",
   "metadata": {},
   "outputs": [
    {
     "data": {
      "text/plain": [
       "3423482"
      ]
     },
     "execution_count": 195,
     "metadata": {},
     "output_type": "execute_result"
    }
   ],
   "source": [
    "len(processedCorpus_list)"
   ]
  },
  {
   "cell_type": "code",
   "execution_count": null,
   "id": "01a4f7eb",
   "metadata": {},
   "outputs": [],
   "source": []
  },
  {
   "cell_type": "code",
   "execution_count": 106,
   "id": "00ce0d34",
   "metadata": {},
   "outputs": [],
   "source": [
    "def computeWordContextMatrix(corpus_list,vocab=None,window_size=2):\n",
    "    if vocab is None:\n",
    "        vocab=sorted(list(set(corpus_list)))\n",
    "    numWords = len(vocab)\n",
    "    #M = np.zeros((numWords,numWords))\n",
    "    M = lil_matrix((numWords,numWords))\n",
    "    W2I = dict(zip(vocab,np.arange(numWords)))\n",
    "    I2w = dict(zip(np.arange(numWords),vocab))\n",
    "    doc = corpus_list\n",
    "    curIdx = 0\n",
    "    docLen = len(doc)\n",
    "    while curIdx < docLen:\n",
    "        left = max(curIdx-window_size,0)\n",
    "        right = min(curIdx+window_size+1,docLen)\n",
    "        wordsInContext = doc[left:curIdx] + doc[curIdx+1:right]\n",
    "        currentWord=doc[curIdx]\n",
    "        currentWordIdx = W2I[currentWord]\n",
    "        for word in wordsInContext:\n",
    "            contextIdx = W2I[word]\n",
    "            M[currentWordIdx,contextIdx] += 1\n",
    "        curIdx += 1\n",
    "    return M,W2I,I2w\n",
    "            "
   ]
  },
  {
   "cell_type": "code",
   "execution_count": 174,
   "id": "0948709b",
   "metadata": {},
   "outputs": [],
   "source": [
    "M,W2I,I2W = computeWordContextMatrix(processedCorpus_list,vocab)"
   ]
  },
  {
   "cell_type": "code",
   "execution_count": 120,
   "id": "1c8f246f",
   "metadata": {},
   "outputs": [
    {
     "data": {
      "text/plain": [
       "matrix([[5601541.]])"
      ]
     },
     "execution_count": 120,
     "metadata": {},
     "output_type": "execute_result"
    }
   ],
   "source": [
    "sorted(np.sum(M,axis=1))[-1]"
   ]
  },
  {
   "cell_type": "code",
   "execution_count": 116,
   "id": "1b2c0029",
   "metadata": {},
   "outputs": [
    {
     "data": {
      "text/plain": [
       "'i'"
      ]
     },
     "execution_count": 116,
     "metadata": {},
     "output_type": "execute_result"
    }
   ],
   "source": [
    "I2W[0]"
   ]
  },
  {
   "cell_type": "code",
   "execution_count": null,
   "id": "943cdf83",
   "metadata": {},
   "outputs": [],
   "source": [
    "np.outer()"
   ]
  },
  {
   "cell_type": "code",
   "execution_count": null,
   "id": "c2ecf62f",
   "metadata": {},
   "outputs": [],
   "source": [
    "np.isinf()"
   ]
  },
  {
   "cell_type": "code",
   "execution_count": 177,
   "id": "d27ec89e",
   "metadata": {},
   "outputs": [],
   "source": [
    "M2 = M.copy()"
   ]
  },
  {
   "cell_type": "code",
   "execution_count": 214,
   "id": "61b8c4b1",
   "metadata": {},
   "outputs": [],
   "source": [
    "def pmi(M,positive=True):\n",
    "    col_totals = np.sum(M,axis=0)\n",
    "    total = col_totals.sum()\n",
    "    row_totals = np.sum(M, axis=1)\n",
    "    #print(col_totals,'\\n',row_totals)\n",
    "    expected = np.outer(row_totals,col_totals) / total\n",
    "    #print(expected)\n",
    "    \n",
    "    M = M / expected\n",
    "    with np.errstate(divide='ignore'):\n",
    "        M = np.log(M)\n",
    "    #M[np.isinf(M)] = 0.0\n",
    "    \n",
    "    \n",
    "    \n",
    "    if positive:\n",
    "        M[M<0]=0.0\n",
    "    return M"
   ]
  },
  {
   "cell_type": "code",
   "execution_count": 215,
   "id": "b95448df",
   "metadata": {},
   "outputs": [
    {
     "name": "stderr",
     "output_type": "stream",
     "text": [
      "F:\\anaconda\\Lib\\site-packages\\scipy\\sparse\\_base.py:665: RuntimeWarning: invalid value encountered in divide\n",
      "  return np.true_divide(self.todense(), other)\n"
     ]
    }
   ],
   "source": [
    "M2 = pmi(M)"
   ]
  },
  {
   "cell_type": "code",
   "execution_count": 196,
   "id": "e4ba1588",
   "metadata": {},
   "outputs": [
    {
     "data": {
      "text/plain": [
       "(4327, 4327)"
      ]
     },
     "execution_count": 196,
     "metadata": {},
     "output_type": "execute_result"
    }
   ],
   "source": [
    "M2.shape"
   ]
  },
  {
   "cell_type": "code",
   "execution_count": 218,
   "id": "24723bae",
   "metadata": {},
   "outputs": [
    {
     "data": {
      "text/plain": [
       "nan"
      ]
     },
     "execution_count": 218,
     "metadata": {},
     "output_type": "execute_result"
    }
   ],
   "source": [
    "np.min(M2)"
   ]
  },
  {
   "cell_type": "code",
   "execution_count": 169,
   "id": "bd44a1ee",
   "metadata": {},
   "outputs": [],
   "source": [
    "# def calculate_pmi(matrix,positive=True):\n",
    "#     # Convert the matrix to probabilities\n",
    "#     p_xy = matrix / np.sum(matrix)\n",
    "#     p_x = np.sum(matrix, axis=1) / np.sum(matrix)\n",
    "#     p_y = np.sum(matrix, axis=0) / np.sum(matrix)\n",
    "    \n",
    "#     # Avoid division by zero\n",
    "#     p_x[p_x == 0] = 1\n",
    "#     p_y[p_y == 0] = 1\n",
    "    \n",
    "#     # Calculate PMI\n",
    "#     pmi_matrix = np.log2(p_xy / (np.outer(p_x, p_y)))\n",
    "    \n",
    "# #     if positive:\n",
    "# #         pmi_matrix[pmi_matrix<0] = 0.0\n",
    "#     return pmi_matrix"
   ]
  },
  {
   "cell_type": "code",
   "execution_count": 173,
   "id": "c606c684",
   "metadata": {},
   "outputs": [],
   "source": [
    "M = calculate_pmi(M)"
   ]
  },
  {
   "cell_type": "code",
   "execution_count": null,
   "id": "89fdaa61",
   "metadata": {},
   "outputs": [],
   "source": []
  },
  {
   "cell_type": "code",
   "execution_count": null,
   "id": "b150ea74",
   "metadata": {},
   "outputs": [],
   "source": []
  },
  {
   "cell_type": "code",
   "execution_count": null,
   "id": "b7fe90e8",
   "metadata": {},
   "outputs": [],
   "source": []
  },
  {
   "cell_type": "code",
   "execution_count": 219,
   "id": "e694a37d",
   "metadata": {},
   "outputs": [],
   "source": [
    "M2 = np.nan_to_num(M2,nan=0.0)"
   ]
  },
  {
   "cell_type": "code",
   "execution_count": 220,
   "id": "82cd8e85",
   "metadata": {},
   "outputs": [
    {
     "data": {
      "text/plain": [
       "0.0"
      ]
     },
     "execution_count": 220,
     "metadata": {},
     "output_type": "execute_result"
    }
   ],
   "source": [
    "np.min(M2)"
   ]
  },
  {
   "cell_type": "code",
   "execution_count": null,
   "id": "78292446",
   "metadata": {},
   "outputs": [],
   "source": []
  },
  {
   "cell_type": "code",
   "execution_count": 200,
   "id": "d7fecbbe",
   "metadata": {},
   "outputs": [
    {
     "data": {
      "text/plain": [
       "(1, 643425)"
      ]
     },
     "execution_count": 200,
     "metadata": {},
     "output_type": "execute_result"
    }
   ],
   "source": [
    "M2[np.isnan(M2)]"
   ]
  },
  {
   "cell_type": "code",
   "execution_count": 203,
   "id": "549510b4",
   "metadata": {},
   "outputs": [
    {
     "data": {
      "text/plain": [
       "(1, 0)"
      ]
     },
     "execution_count": 203,
     "metadata": {},
     "output_type": "execute_result"
    }
   ],
   "source": []
  },
  {
   "cell_type": "code",
   "execution_count": 5,
   "id": "ae915970",
   "metadata": {},
   "outputs": [],
   "source": [
    "from sklearn.decomposition import TruncatedSVD,PCA,IncrementalPCA"
   ]
  },
  {
   "cell_type": "code",
   "execution_count": 221,
   "id": "f080b2b0",
   "metadata": {},
   "outputs": [
    {
     "name": "stderr",
     "output_type": "stream",
     "text": [
      "F:\\anaconda\\Lib\\site-packages\\sklearn\\utils\\validation.py:727: FutureWarning: np.matrix usage is deprecated in 1.0 and will raise a TypeError in 1.2. Please convert to a numpy array with np.asarray. For more information see: https://numpy.org/doc/stable/reference/generated/numpy.matrix.html\n",
      "  warnings.warn(\n"
     ]
    }
   ],
   "source": [
    "transformer = TruncatedSVD(n_components=100)\n",
    "M_reduced = transformer.fit_transform(M2)"
   ]
  },
  {
   "cell_type": "code",
   "execution_count": 222,
   "id": "98f5bbf4",
   "metadata": {},
   "outputs": [],
   "source": [
    "# transformerPca = IncrementalPCA(n_components=100)\n",
    "# M_reduced_pca = transformerPca.fit_transform(M)\n",
    "# M_reduced_pca[0]"
   ]
  },
  {
   "cell_type": "code",
   "execution_count": 325,
   "id": "7fdff8ab",
   "metadata": {},
   "outputs": [
    {
     "data": {
      "text/plain": [
       "-14.71154543042965"
      ]
     },
     "execution_count": 325,
     "metadata": {},
     "output_type": "execute_result"
    }
   ],
   "source": [
    "np.min(M_reduced)"
   ]
  },
  {
   "cell_type": "code",
   "execution_count": null,
   "id": "7402bd42",
   "metadata": {},
   "outputs": [],
   "source": []
  },
  {
   "cell_type": "code",
   "execution_count": null,
   "id": "e9e56b42",
   "metadata": {},
   "outputs": [],
   "source": []
  },
  {
   "cell_type": "code",
   "execution_count": null,
   "id": "eb3f9fdd",
   "metadata": {},
   "outputs": [],
   "source": []
  },
  {
   "cell_type": "code",
   "execution_count": null,
   "id": "95e7b5a5",
   "metadata": {},
   "outputs": [],
   "source": []
  },
  {
   "cell_type": "code",
   "execution_count": null,
   "id": "22fd4330",
   "metadata": {},
   "outputs": [],
   "source": []
  },
  {
   "cell_type": "code",
   "execution_count": 206,
   "id": "9df73b12",
   "metadata": {},
   "outputs": [
    {
     "data": {
      "text/plain": [
       "(4327, 4327)"
      ]
     },
     "execution_count": 206,
     "metadata": {},
     "output_type": "execute_result"
    }
   ],
   "source": [
    "M.shape"
   ]
  },
  {
   "cell_type": "code",
   "execution_count": 326,
   "id": "82fce9d0",
   "metadata": {},
   "outputs": [
    {
     "data": {
      "text/plain": [
       "0"
      ]
     },
     "execution_count": 326,
     "metadata": {},
     "output_type": "execute_result"
    }
   ],
   "source": [
    "np.sum(np.isnan(M_reduced))"
   ]
  },
  {
   "cell_type": "code",
   "execution_count": 254,
   "id": "2e9052fb",
   "metadata": {},
   "outputs": [],
   "source": [
    "def getNorms(E):\n",
    "    if E.ndim == 1:\n",
    "        E = E[np.newaxis,:]\n",
    "    nrms =  np.sum(E**2,axis=1)**0.5\n",
    "    return nrms"
   ]
  },
  {
   "cell_type": "code",
   "execution_count": 256,
   "id": "ee47cc43",
   "metadata": {},
   "outputs": [
    {
     "name": "stdout",
     "output_type": "stream",
     "text": [
      "[34.32019928]\n"
     ]
    }
   ],
   "source": [
    "print(getNorms(M_reduced[1,:]))"
   ]
  },
  {
   "cell_type": "code",
   "execution_count": 271,
   "id": "af72aabe",
   "metadata": {},
   "outputs": [],
   "source": [
    "def normalize(E):\n",
    " #   if E.ndim ==1:\n",
    "#        E = E[np.newaxis,:]\n",
    "#     for i in range(E.shape[0]):\n",
    "#         nrms = getNorms(E[i][np.newaxis,:])\n",
    "#         print(nrms,np.sqrt(nrms))\n",
    "#         E[i] = E[i]/(np.sqrt(nrms))\n",
    "    nrms = getNorms(E)\n",
    "\n",
    "#     print(nrms[:,np.newaxis])\n",
    "#     print(nrms.shape)\n",
    "#     print(E.shape)\n",
    "    return E / nrms[:,np.newaxis]"
   ]
  },
  {
   "cell_type": "code",
   "execution_count": 262,
   "id": "2dc91bf1",
   "metadata": {},
   "outputs": [
    {
     "name": "stdout",
     "output_type": "stream",
     "text": [
      "[[34.32019928]]\n",
      "(1,)\n",
      "(100,)\n",
      "[0.47660618]\n"
     ]
    }
   ],
   "source": [
    "E = M_reduced[1,:]\n",
    "norm_E = normalize(E)\n",
    "print(np.sum(norm_E,axis=1))"
   ]
  },
  {
   "cell_type": "code",
   "execution_count": 253,
   "id": "d420d83e",
   "metadata": {},
   "outputs": [
    {
     "data": {
      "text/plain": [
       "array([0.47660618])"
      ]
     },
     "execution_count": 253,
     "metadata": {},
     "output_type": "execute_result"
    }
   ],
   "source": [
    "np.sum(norm_E,axis=1)"
   ]
  },
  {
   "cell_type": "code",
   "execution_count": 264,
   "id": "eb0f116f",
   "metadata": {},
   "outputs": [
    {
     "data": {
      "text/plain": [
       "16.357219017403168"
      ]
     },
     "execution_count": 264,
     "metadata": {},
     "output_type": "execute_result"
    }
   ],
   "source": [
    "np.sum(M_reduced[1])"
   ]
  },
  {
   "cell_type": "code",
   "execution_count": 267,
   "id": "a71eb796",
   "metadata": {},
   "outputs": [
    {
     "data": {
      "text/plain": [
       "34.32019927633177"
      ]
     },
     "execution_count": 267,
     "metadata": {},
     "output_type": "execute_result"
    }
   ],
   "source": [
    "np.sum(M_reduced[1]**2)**0.5"
   ]
  },
  {
   "cell_type": "code",
   "execution_count": 268,
   "id": "dc1cd486",
   "metadata": {},
   "outputs": [
    {
     "data": {
      "text/plain": [
       "array([1.])"
      ]
     },
     "execution_count": 268,
     "metadata": {},
     "output_type": "execute_result"
    }
   ],
   "source": [
    "getNorms(norm_E)"
   ]
  },
  {
   "cell_type": "code",
   "execution_count": 330,
   "id": "1007118e",
   "metadata": {},
   "outputs": [],
   "source": [
    "def cosineSimilarity(E,v):\n",
    "    E = normalize(E)\n",
    "    v = normalize(v)\n",
    "    scores = E.dot(v.T)\n",
    "    scores[np.isnan(scores)] = 0.0\n",
    "    return scores"
   ]
  },
  {
   "cell_type": "code",
   "execution_count": 361,
   "id": "86710a2a",
   "metadata": {},
   "outputs": [],
   "source": [
    "def getMostSimilarWords(E,word,W2I,topn=10):\n",
    "    v = E[W2I[word],]\n",
    "    scores = cosineSimilarity(E,v)\n",
    "    print(scores)\n",
    "    sortedScores = np.sort(scores.reshape(-1))[::-1]\n",
    "    print(sortedScores.shape)\n",
    "    print(np.sum(np.isnan(sortedScores)))\n",
    "    idx = np.argsort(scores.reshape(-1))[::-1]\n",
    "    topNScores = sortedScores[1:topn]\n",
    "    topNWordsIdx = idx[1:topn]\n",
    "    return topNScores,topNWordsIdx\n",
    "        "
   ]
  },
  {
   "cell_type": "code",
   "execution_count": 362,
   "id": "bcccf1fe",
   "metadata": {},
   "outputs": [
    {
     "data": {
      "text/plain": [
       "(100,)"
      ]
     },
     "execution_count": 362,
     "metadata": {},
     "output_type": "execute_result"
    }
   ],
   "source": [
    "E.shape"
   ]
  },
  {
   "cell_type": "code",
   "execution_count": 363,
   "id": "10d80c83",
   "metadata": {},
   "outputs": [
    {
     "name": "stdout",
     "output_type": "stream",
     "text": [
      "[[ 0.34593316]\n",
      " [ 0.5032537 ]\n",
      " [ 0.23720749]\n",
      " ...\n",
      " [ 0.01849561]\n",
      " [-0.00428651]\n",
      " [ 0.05945247]]\n",
      "(4327,)\n",
      "0\n"
     ]
    },
    {
     "name": "stderr",
     "output_type": "stream",
     "text": [
      "C:\\Users\\Mohammad\\AppData\\Local\\Temp\\ipykernel_1864\\1797927720.py:13: RuntimeWarning: invalid value encountered in divide\n",
      "  return E / nrms[:,np.newaxis]\n"
     ]
    }
   ],
   "source": [
    "scores, idx = getMostSimilarWords(M_reduced,'good',W2I)"
   ]
  },
  {
   "cell_type": "code",
   "execution_count": 364,
   "id": "61f589a6",
   "metadata": {},
   "outputs": [
    {
     "name": "stdout",
     "output_type": "stream",
     "text": [
      "[0.80788386 0.79602826 0.78773826 0.76289219 0.7561541  0.75012522\n",
      " 0.74995983 0.71025756 0.70943284]\n",
      "[ 185 1510  995 2367 1442  183  451   18  165]\n"
     ]
    }
   ],
   "source": [
    "print(scores)\n",
    "print(idx)"
   ]
  },
  {
   "cell_type": "code",
   "execution_count": 365,
   "id": "58c5cf79",
   "metadata": {},
   "outputs": [
    {
     "data": {
      "text/plain": [
       "array([0.80788386, 0.79602826, 0.78773826, 0.76289219, 0.7561541 ,\n",
       "       0.75012522, 0.74995983, 0.71025756, 0.70943284])"
      ]
     },
     "execution_count": 365,
     "metadata": {},
     "output_type": "execute_result"
    }
   ],
   "source": [
    "scores"
   ]
  },
  {
   "cell_type": "code",
   "execution_count": 366,
   "id": "7148cb1a",
   "metadata": {},
   "outputs": [
    {
     "data": {
      "text/plain": [
       "array([ 185, 1510,  995, 2367, 1442,  183,  451,   18,  165], dtype=int64)"
      ]
     },
     "execution_count": 366,
     "metadata": {},
     "output_type": "execute_result"
    }
   ],
   "source": [
    "idx"
   ]
  },
  {
   "cell_type": "code",
   "execution_count": 368,
   "id": "be84f0b2",
   "metadata": {},
   "outputs": [
    {
     "name": "stdout",
     "output_type": "stream",
     "text": [
      "great\n",
      "bad\n",
      "best\n",
      "decent\n",
      "excellent\n",
      "better\n",
      "nice\n",
      "a\n",
      "like\n"
     ]
    }
   ],
   "source": [
    "for i in idx:\n",
    "    print(I2W[i])"
   ]
  },
  {
   "cell_type": "code",
   "execution_count": null,
   "id": "a73d220e",
   "metadata": {},
   "outputs": [],
   "source": []
  }
 ],
 "metadata": {
  "kernelspec": {
   "display_name": "Python 3 (ipykernel)",
   "language": "python",
   "name": "python3"
  },
  "language_info": {
   "codemirror_mode": {
    "name": "ipython",
    "version": 3
   },
   "file_extension": ".py",
   "mimetype": "text/x-python",
   "name": "python",
   "nbconvert_exporter": "python",
   "pygments_lexer": "ipython3",
   "version": "3.11.5"
  }
 },
 "nbformat": 4,
 "nbformat_minor": 5
}
